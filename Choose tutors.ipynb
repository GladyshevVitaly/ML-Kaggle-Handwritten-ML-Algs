{
 "cells": [
  {
   "cell_type": "markdown",
   "metadata": {},
   "source": [
    "# Kaggle Choose tutors"
   ]
  },
  {
   "cell_type": "code",
   "execution_count": 1,
   "metadata": {
    "_cell_guid": "b1076dfc-b9ad-4769-8c92-a6c4dae69d19",
    "_uuid": "8f2839f25d086af736a60e9eeb907d3b93b6e0e5"
   },
   "outputs": [
    {
     "name": "stdout",
     "output_type": "stream",
     "text": [
      "/kaggle/input/choose-tutors/train.csv\n",
      "/kaggle/input/choose-tutors/submission_example.csv\n",
      "/kaggle/input/choose-tutors/test.csv\n"
     ]
    }
   ],
   "source": [
    "# This Python 3 environment comes with many helpful analytics libraries installed\n",
    "# It is defined by the kaggle/python docker image: https://github.com/kaggle/docker-python\n",
    "# For example, here's several helpful packages to load in \n",
    "\n",
    "import numpy as np # linear algebra\n",
    "import pandas as pd # data processing, CSV file I/O (e.g. pd.read_csv)\n",
    "\n",
    "# Input data files are available in the \"../input/\" directory.\n",
    "# For example, running this (by clicking run or pressing Shift+Enter) will list all files under the input directory\n",
    "\n",
    "import os\n",
    "for dirname, _, filenames in os.walk('/kaggle/input'):\n",
    "    for filename in filenames:\n",
    "        print(os.path.join(dirname, filename))\n",
    "\n",
    "# Any results you write to the current directory are saved as output."
   ]
  },
  {
   "cell_type": "code",
   "execution_count": 2,
   "metadata": {
    "_cell_guid": "79c7e3d0-c299-4dcb-8224-4455121ee9b0",
    "_uuid": "d629ff2d2480ee46fbb7e2d37f6b5fab8052498a"
   },
   "outputs": [],
   "source": [
    "from sklearn.model_selection import train_test_split\n",
    "import matplotlib.pyplot as plt\n",
    "import seaborn as sns"
   ]
  },
  {
   "cell_type": "markdown",
   "metadata": {},
   "source": [
    "## Загрузка и подготовка данных"
   ]
  },
  {
   "cell_type": "code",
   "execution_count": 3,
   "metadata": {},
   "outputs": [
    {
     "name": "stdout",
     "output_type": "stream",
     "text": [
      "<class 'pandas.core.frame.DataFrame'>\n",
      "RangeIndex: 10000 entries, 0 to 9999\n",
      "Data columns (total 13 columns):\n",
      "Id                     10000 non-null int64\n",
      "age                    10000 non-null float64\n",
      "years_of_experience    10000 non-null float64\n",
      "lesson_price           10000 non-null float64\n",
      "qualification          10000 non-null float64\n",
      "physics                10000 non-null float64\n",
      "chemistry              10000 non-null float64\n",
      "biology                10000 non-null float64\n",
      "english                10000 non-null float64\n",
      "geography              10000 non-null float64\n",
      "history                10000 non-null float64\n",
      "mean_exam_points       10000 non-null float64\n",
      "choose                 10000 non-null int64\n",
      "dtypes: float64(11), int64(2)\n",
      "memory usage: 1015.8 KB\n"
     ]
    }
   ],
   "source": [
    "data = pd.read_csv(\"/kaggle/input/choose-tutors/train.csv\", sep=\",\")\n",
    "data.info()"
   ]
  },
  {
   "cell_type": "code",
   "execution_count": 4,
   "metadata": {},
   "outputs": [
    {
     "name": "stdout",
     "output_type": "stream",
     "text": [
      "<class 'pandas.core.frame.DataFrame'>\n",
      "RangeIndex: 10000 entries, 0 to 9999\n",
      "Data columns (total 11 columns):\n",
      "age                    10000 non-null float64\n",
      "years_of_experience    10000 non-null float64\n",
      "lesson_price           10000 non-null float64\n",
      "qualification          10000 non-null float64\n",
      "physics                10000 non-null float64\n",
      "chemistry              10000 non-null float64\n",
      "biology                10000 non-null float64\n",
      "english                10000 non-null float64\n",
      "geography              10000 non-null float64\n",
      "history                10000 non-null float64\n",
      "mean_exam_points       10000 non-null float64\n",
      "dtypes: float64(11)\n",
      "memory usage: 859.5 KB\n"
     ]
    }
   ],
   "source": [
    "X = data.drop(['Id', 'choose'], axis = 1)\n",
    "X.info()"
   ]
  },
  {
   "cell_type": "code",
   "execution_count": 5,
   "metadata": {},
   "outputs": [
    {
     "data": {
      "text/plain": [
       "array([[3.50e+01, 0.00e+00, 2.15e+03, ..., 0.00e+00, 0.00e+00, 7.40e+01],\n",
       "       [5.20e+01, 2.00e+00, 1.25e+03, ..., 0.00e+00, 1.00e+00, 5.70e+01],\n",
       "       [2.90e+01, 3.00e+00, 1.75e+03, ..., 0.00e+00, 0.00e+00, 6.60e+01],\n",
       "       ...,\n",
       "       [4.40e+01, 5.00e+00, 1.75e+03, ..., 0.00e+00, 1.00e+00, 5.90e+01],\n",
       "       [4.10e+01, 0.00e+00, 1.70e+03, ..., 0.00e+00, 0.00e+00, 7.20e+01],\n",
       "       [4.10e+01, 5.00e+00, 1.20e+03, ..., 0.00e+00, 0.00e+00, 4.00e+01]])"
      ]
     },
     "execution_count": 5,
     "metadata": {},
     "output_type": "execute_result"
    }
   ],
   "source": [
    "X = X.values\n",
    "X"
   ]
  },
  {
   "cell_type": "code",
   "execution_count": 6,
   "metadata": {},
   "outputs": [
    {
     "name": "stdout",
     "output_type": "stream",
     "text": [
      "<class 'pandas.core.frame.DataFrame'>\n",
      "RangeIndex: 10000 entries, 0 to 9999\n",
      "Data columns (total 1 columns):\n",
      "choose    10000 non-null int64\n",
      "dtypes: int64(1)\n",
      "memory usage: 78.2 KB\n"
     ]
    }
   ],
   "source": [
    "y = data[['choose']]\n",
    "y.info()"
   ]
  },
  {
   "cell_type": "code",
   "execution_count": 7,
   "metadata": {},
   "outputs": [
    {
     "data": {
      "text/plain": [
       "array([0, 1, 0, ..., 0, 0, 0])"
      ]
     },
     "execution_count": 7,
     "metadata": {},
     "output_type": "execute_result"
    }
   ],
   "source": [
    "y = y.values.flatten()\n",
    "y"
   ]
  },
  {
   "cell_type": "code",
   "execution_count": 8,
   "metadata": {},
   "outputs": [
    {
     "name": "stdout",
     "output_type": "stream",
     "text": [
      "<class 'pandas.core.frame.DataFrame'>\n",
      "RangeIndex: 10000 entries, 0 to 9999\n",
      "Data columns (total 12 columns):\n",
      "Id                     10000 non-null int64\n",
      "age                    10000 non-null float64\n",
      "years_of_experience    10000 non-null float64\n",
      "lesson_price           10000 non-null float64\n",
      "qualification          10000 non-null float64\n",
      "physics                10000 non-null float64\n",
      "chemistry              10000 non-null float64\n",
      "biology                10000 non-null float64\n",
      "english                10000 non-null float64\n",
      "geography              10000 non-null float64\n",
      "history                10000 non-null float64\n",
      "mean_exam_points       10000 non-null float64\n",
      "dtypes: float64(11), int64(1)\n",
      "memory usage: 937.6 KB\n"
     ]
    }
   ],
   "source": [
    "test = pd.read_csv(\"/kaggle/input/choose-tutors/test.csv\", sep=\",\")\n",
    "test.info()"
   ]
  },
  {
   "cell_type": "code",
   "execution_count": 9,
   "metadata": {},
   "outputs": [
    {
     "name": "stdout",
     "output_type": "stream",
     "text": [
      "<class 'pandas.core.frame.DataFrame'>\n",
      "RangeIndex: 10000 entries, 0 to 9999\n",
      "Data columns (total 11 columns):\n",
      "age                    10000 non-null float64\n",
      "years_of_experience    10000 non-null float64\n",
      "lesson_price           10000 non-null float64\n",
      "qualification          10000 non-null float64\n",
      "physics                10000 non-null float64\n",
      "chemistry              10000 non-null float64\n",
      "biology                10000 non-null float64\n",
      "english                10000 non-null float64\n",
      "geography              10000 non-null float64\n",
      "history                10000 non-null float64\n",
      "mean_exam_points       10000 non-null float64\n",
      "dtypes: float64(11)\n",
      "memory usage: 859.5 KB\n"
     ]
    }
   ],
   "source": [
    "test_X = test.drop(['Id'], axis = 1)\n",
    "test_X.info()"
   ]
  },
  {
   "cell_type": "code",
   "execution_count": 10,
   "metadata": {},
   "outputs": [
    {
     "data": {
      "text/plain": [
       "array([[3.20e+01, 2.00e+00, 2.70e+03, ..., 0.00e+00, 0.00e+00, 9.00e+01],\n",
       "       [3.50e+01, 6.00e+00, 1.80e+03, ..., 0.00e+00, 0.00e+00, 7.10e+01],\n",
       "       [4.40e+01, 2.00e+00, 1.20e+03, ..., 0.00e+00, 0.00e+00, 4.50e+01],\n",
       "       ...,\n",
       "       [4.40e+01, 2.00e+00, 1.25e+03, ..., 0.00e+00, 0.00e+00, 6.30e+01],\n",
       "       [5.10e+01, 5.00e+00, 1.00e+03, ..., 0.00e+00, 0.00e+00, 6.40e+01],\n",
       "       [4.30e+01, 0.00e+00, 1.50e+03, ..., 0.00e+00, 0.00e+00, 4.10e+01]])"
      ]
     },
     "execution_count": 10,
     "metadata": {},
     "output_type": "execute_result"
    }
   ],
   "source": [
    "test_X = test_X.values\n",
    "test_X"
   ]
  },
  {
   "cell_type": "markdown",
   "metadata": {},
   "source": [
    "# XGBoost"
   ]
  },
  {
   "cell_type": "code",
   "execution_count": 11,
   "metadata": {},
   "outputs": [],
   "source": [
    "class Leaf_Reg:\n",
    "    \n",
    "    def __init__(self, data, labels):\n",
    "        self.data = data\n",
    "        self.labels = labels\n",
    "        self.prediction = self.predict()\n",
    "        \n",
    "    def predict(self):\n",
    "        prediction = np.mean(self.labels)\n",
    "        return prediction"
   ]
  },
  {
   "cell_type": "code",
   "execution_count": 12,
   "metadata": {},
   "outputs": [],
   "source": [
    "class Node:\n",
    "    # Класс узла\n",
    "    \n",
    "    def __init__(self, index, t, true_branch, false_branch):\n",
    "        self.index = index  # индекс признака, по которому ведется сравнение с порогом в этом узле\n",
    "        self.t = t  # значение порога\n",
    "        self.true_branch = true_branch  # поддерево, удовлетворяющее условию в узле\n",
    "        self.false_branch = false_branch  # поддерево, не удовлетворяющее условию в узле"
   ]
  },
  {
   "cell_type": "code",
   "execution_count": 13,
   "metadata": {},
   "outputs": [],
   "source": [
    "def quality_reg(left_labels, right_labels, current_variance):\n",
    "\n",
    "    # доля выбоки, ушедшая в левое поддерево\n",
    "    p = float(left_labels.shape[0]) / (left_labels.shape[0] + right_labels.shape[0])\n",
    "    \n",
    "    return current_variance - p * np.var(left_labels) - (1 - p) * np.var(right_labels)"
   ]
  },
  {
   "cell_type": "code",
   "execution_count": 14,
   "metadata": {},
   "outputs": [],
   "source": [
    "def split(data, labels, index, t):\n",
    "    # Разбиение датасета в узле\n",
    "    \n",
    "    left = np.where(data[:, index] <= t)\n",
    "    right = np.where(data[:, index] > t)\n",
    "        \n",
    "    true_data = data[left]\n",
    "    false_data = data[right]\n",
    "    true_labels = labels[left]\n",
    "    false_labels = labels[right]\n",
    "        \n",
    "    return true_data, false_data, true_labels, false_labels"
   ]
  },
  {
   "cell_type": "code",
   "execution_count": 15,
   "metadata": {},
   "outputs": [],
   "source": [
    "def find_best_split_reg(data, labels):\n",
    "    \n",
    "    #  обозначим минимальное количество объектов в узле\n",
    "    min_leaf = 5\n",
    "\n",
    "    current_variance = np.var(labels)\n",
    "\n",
    "    best_quality = 0\n",
    "    best_t = None\n",
    "    best_index = None\n",
    "    \n",
    "    n_features = data.shape[1]\n",
    "    \n",
    "    for index in range(n_features):\n",
    "        # будем проверять только уникальные значения признака, исключая повторения\n",
    "        t_values = np.unique([row[index] for row in data])\n",
    "        \n",
    "        for t in t_values:\n",
    "            true_data, false_data, true_labels, false_labels = split(data, labels, index, t)\n",
    "            #  пропускаем разбиения, в которых в узле остается менее 5 объектов\n",
    "            if len(true_data) < min_leaf or len(false_data) < min_leaf:\n",
    "                continue\n",
    "            \n",
    "            current_quality = quality_reg(true_labels, false_labels, current_variance)\n",
    "            \n",
    "            #  выбираем порог, на котором получается максимальный прирост качества\n",
    "            if current_quality > best_quality:\n",
    "                best_quality, best_t, best_index = current_quality, t, index\n",
    "\n",
    "    return best_quality, best_t, best_index"
   ]
  },
  {
   "cell_type": "code",
   "execution_count": 16,
   "metadata": {},
   "outputs": [],
   "source": [
    "def build_tree_reg_depth_lim(data, labels, depth_lim = 20, depth = 0):\n",
    "\n",
    "    quality, t, index = find_best_split_reg(data, labels)\n",
    "    #print(\"q: {} t: {} ind: {}\".format(quality, t, index))\n",
    "\n",
    "    #  Базовый случай - прекращаем рекурсию, когда нет прироста в качества\n",
    "    if quality == 0 or depth >= depth_lim:\n",
    "        return Leaf_Reg(data, labels)\n",
    "\n",
    "    true_data, false_data, true_labels, false_labels = split(data, labels, index, t)\n",
    "\n",
    "    # Рекурсивно строим два поддерева\n",
    "    true_branch = build_tree_reg_depth_lim(true_data, true_labels, depth_lim, depth + 1)\n",
    "    false_branch = build_tree_reg_depth_lim(false_data, false_labels, depth_lim, depth + 1)\n",
    "\n",
    "    # Возвращаем класс узла со всеми поддеревьями, то есть целого дерева\n",
    "    return Node(index, t, true_branch, false_branch)"
   ]
  },
  {
   "cell_type": "code",
   "execution_count": 17,
   "metadata": {},
   "outputs": [],
   "source": [
    "def pred_item(item, node):\n",
    "\n",
    "    #  Останавливаем рекурсию, если достигли листа\n",
    "    if isinstance(node, Leaf_Reg):\n",
    "        answer = node.prediction\n",
    "        return answer\n",
    "\n",
    "    if item[node.index] <= node.t:\n",
    "        return pred_item(item, node.true_branch)\n",
    "    else:\n",
    "        return pred_item(item, node.false_branch)"
   ]
  },
  {
   "cell_type": "code",
   "execution_count": 18,
   "metadata": {},
   "outputs": [],
   "source": [
    "def gb_predict_m(X, trees_list, coef_list, eta):\n",
    "    # Реализуемый алгоритм градиентного бустинга будет инициализироваться нулевыми значениями,\n",
    "    # поэтому все деревья из списка trees_list уже являются дополнительными и при предсказании прибавляются с шагом eta\n",
    "    return np.array([sum([eta * coef * pred_item(x, tree) for tree, coef in zip(trees_list, coef_list)]) for x in X])"
   ]
  },
  {
   "cell_type": "code",
   "execution_count": 19,
   "metadata": {},
   "outputs": [],
   "source": [
    "def mean_squared_error(y_real, prediction):\n",
    "    return (sum((y_real - prediction)**2)) / len(y_real)"
   ]
  },
  {
   "cell_type": "code",
   "execution_count": 20,
   "metadata": {},
   "outputs": [],
   "source": [
    "def bias(y, z):\n",
    "    return (y - z)"
   ]
  },
  {
   "cell_type": "code",
   "execution_count": 21,
   "metadata": {},
   "outputs": [],
   "source": [
    "def gb_fit_lt(n_trees, max_depth, X_train, X_test, y_train, y_test, coefs, eta):\n",
    "    \n",
    "    # Деревья будем записывать в список\n",
    "    trees = []\n",
    "    err_min = np.inf\n",
    "    \n",
    "    # Будем записывать ошибки на обучающей и тестовой выборке на каждой итерации в список\n",
    "    train_errors = []\n",
    "    test_errors = []\n",
    "    \n",
    "    for i in range(n_trees):\n",
    "\n",
    "        # инициализируем бустинг начальным алгоритмом, возвращающим ноль, \n",
    "        # поэтому первый алгоритм просто обучаем на выборке и добавляем в список\n",
    "        if len(trees) == 0:\n",
    "            # обучаем первое дерево на обучающей выборке\n",
    "            tree = build_tree_reg_depth_lim(X_train, y_train, max_depth)\n",
    "            \n",
    "            train_errors.append(mean_squared_error(y_train, gb_predict_m(X_train, trees, coefs, eta)))\n",
    "            test_errors.append(mean_squared_error(y_test, gb_predict_m(X_test, trees, coefs, eta)))\n",
    "        else:\n",
    "            # Получим ответы на текущей композиции\n",
    "            target = gb_predict_m(X_train, trees, coefs, eta)\n",
    "            \n",
    "            # алгоритмы начиная со второго обучаем на сдвиг\n",
    "            tree = build_tree_reg_depth_lim(X_train, bias(y_train, target), max_depth)\n",
    "            \n",
    "            train_errors.append(mean_squared_error(y_train, gb_predict_m(X_train, trees, coefs, eta)))\n",
    "            test_errors.append(mean_squared_error(y_test, gb_predict_m(X_test, trees, coefs, eta)))\n",
    "            \n",
    "#             if test_errors[-1]-0.00005 > err_min:\n",
    "#                 print(len(trees))\n",
    "#                 break\n",
    "#             elif test_errors[-1] < err_min:\n",
    "#                 err_min = test_errors[-1]\n",
    "\n",
    "        if not (i+1)%10:\n",
    "            print(i+1)\n",
    "        trees.append(tree)\n",
    "        \n",
    "    return trees, train_errors, test_errors"
   ]
  },
  {
   "cell_type": "code",
   "execution_count": 22,
   "metadata": {},
   "outputs": [],
   "source": [
    "def get_error_plot(n_trees, train_err, test_err):\n",
    "    plt.xlabel('Iteration number')\n",
    "    plt.ylabel('MSE')\n",
    "    plt.xlim(2, n_trees+1)\n",
    "    plt.plot(list(range(2, n_trees+1)), train_err[1:], label='train error')\n",
    "    plt.plot(list(range(2, n_trees+1)), test_err[1:], label='test error')\n",
    "    plt.legend(loc='upper right')\n",
    "    plt.show()"
   ]
  },
  {
   "cell_type": "code",
   "execution_count": 23,
   "metadata": {},
   "outputs": [],
   "source": [
    "def grid_mtr(n_trees_l, max_depth_l, eta_l, X, y):\n",
    "    X_train, X_test, y_train, y_test = train_test_split(X, y, test_size=0.15, random_state=42)\n",
    "    err_min = np.inf\n",
    "    for tr in n_trees_l:\n",
    "        for dp in max_depth_l:\n",
    "            for et in eta_l:\n",
    "                coefs = [1] * tr # для простоты примем коэффициенты равными 1\n",
    "                trees, train_errors, test_errors = gb_fit_lt(tr, dp, X_train, X_test, y_train, y_test, coefs, et)\n",
    "                train_prediction = gb_predict_m(X_train, trees, coefs, et)\n",
    "                print(f'Ошибка алгоритма из {len(trees)} деревьев глубиной {dp} с шагом {et} на тренировочной выборке: {mean_squared_error(y_train, train_prediction)}')\n",
    "                test_prediction = gb_predict_m(X_test, trees, coefs, et)\n",
    "                err = mean_squared_error(y_test, test_prediction)\n",
    "                print(f'Ошибка алгоритма из {len(trees)} деревьев глубиной {dp} с шагом {et} на тестовой выборке: {err}')\n",
    "                if err_min > err:\n",
    "                    tr_b = len(trees)\n",
    "                    dp_b = dp\n",
    "                    et_b = et\n",
    "                    err_min = err\n",
    "                print(test_errors)\n",
    "                get_error_plot(len(train_errors), train_errors, test_errors)\n",
    "    print(f'Лучшие параметры: Ошибка алгоритма из {tr_b} деревьев глубиной {dp_b} с шагом {et_b} на тестовой выборке: {err_min}')\n",
    "    return tr_b, dp_b, et_b"
   ]
  },
  {
   "cell_type": "code",
   "execution_count": 24,
   "metadata": {},
   "outputs": [
    {
     "name": "stdout",
     "output_type": "stream",
     "text": [
      "10\n",
      "20\n",
      "30\n",
      "40\n",
      "50\n",
      "60\n",
      "70\n",
      "80\n",
      "90\n",
      "100\n",
      "110\n",
      "120\n",
      "130\n",
      "140\n",
      "150\n",
      "160\n",
      "170\n",
      "180\n",
      "190\n",
      "200\n",
      "210\n",
      "220\n",
      "230\n",
      "240\n",
      "250\n",
      "Ошибка алгоритма из 250 деревьев глубиной 2 с шагом 0.1 на тренировочной выборке: 0.07440242399433854\n",
      "Ошибка алгоритма из 250 деревьев глубиной 2 с шагом 0.1 на тестовой выборке: 0.08157734543778594\n",
      "[0.12, 0.11573533238556162, 0.11226540712940783, 0.10964610647411704, 0.10694974766848218, 0.10473402134646881, 0.10295729702413241, 0.10144605011925345, 0.10009279972166515, 0.09916112635839157, 0.09823053390420808, 0.09698358760430369, 0.09636699109920499, 0.09550852509970804, 0.09498325681152632, 0.0945162100116016, 0.09414269597960082, 0.09358358196476704, 0.09304173591292782, 0.09274760631096933, 0.09242434290951171, 0.09214683609347281, 0.09188215499236897, 0.09125147240567283, 0.09100216772454679, 0.0906922078709769, 0.09043298980355613, 0.08991921465023314, 0.08972916959532597, 0.08952825424371802, 0.08925415056343272, 0.0890848554782742, 0.08880746815086568, 0.08841793320887785, 0.08827783949132222, 0.08816938671941366, 0.0877858758356253, 0.08747721767138113, 0.0871417160928862, 0.08700879305784645, 0.08694039024062933, 0.08676250913059572, 0.08651688493104996, 0.0864397957656909, 0.08633755851761703, 0.08618381330171869, 0.08606808499723788, 0.08599440677576149, 0.08582409139166493, 0.08560024408233285, 0.08546760009780348, 0.08528178327551021, 0.08521079020846999, 0.0850531637383477, 0.08499008840643461, 0.08481260565827463, 0.08467818026888757, 0.08451485293847537, 0.08428555802183882, 0.08421739456045838, 0.08415308247870994, 0.08409941872629186, 0.0839518092539234, 0.08381345937978057, 0.08371723228646416, 0.08360245757478414, 0.0835867549447978, 0.08357186639228369, 0.08350631031340329, 0.08346199263104782, 0.08342490107171951, 0.08337880302419645, 0.08337919317429907, 0.0832324504483653, 0.08319532314786666, 0.0831895985591669, 0.0831426814885419, 0.08307809744412405, 0.0830421851414639, 0.08291717477801598, 0.0828153558689434, 0.0827770121363731, 0.08274410206917542, 0.0827308671311573, 0.08269866342807825, 0.08264110920943842, 0.08257799342775878, 0.08257955078281899, 0.0825089310090313, 0.08250112830824445, 0.0824663973573389, 0.08242630719926405, 0.0823115051694696, 0.0822766727316978, 0.08221429843814415, 0.08222045865761192, 0.0821244517465745, 0.08211592237720565, 0.08210973204841737, 0.08206007640989448, 0.08205540120033628, 0.08202176828488984, 0.08200327875267201, 0.0820193882322662, 0.08198807574804771, 0.08196521244409263, 0.08191329984704851, 0.08187405735402446, 0.08187274359748468, 0.08187444045787609, 0.08180384394733585, 0.0818192145623515, 0.08183590106564363, 0.08180986045368985, 0.08187286892094713, 0.08186040088092975, 0.08184593077099264, 0.08183862186070541, 0.08183806337063793, 0.08184328195136542, 0.0818111207218845, 0.0818279268263274, 0.08188558395067573, 0.08187034391700086, 0.08183853180174924, 0.0818353843478539, 0.08181624449423401, 0.08183222298229197, 0.08181009908839774, 0.08182655495262692, 0.08187030667202051, 0.08185312676800506, 0.0818402489583421, 0.08182129841466891, 0.08180377242566295, 0.0817961270971794, 0.08180917625742581, 0.08181865358541003, 0.08181396069733404, 0.08179899084749888, 0.08180312254013535, 0.08179214320614758, 0.08177616967775735, 0.0817731761242698, 0.0818115595234563, 0.08180117733271185, 0.08181720055014635, 0.0818310375262724, 0.08183063954599387, 0.08183183644895001, 0.08176486805827367, 0.08172554575964981, 0.08170901491727778, 0.08172558013739085, 0.08171079429880539, 0.0817131255232542, 0.08173524758191934, 0.08171875352114223, 0.081740236023285, 0.08171246652499328, 0.081702439817138, 0.081708367185349, 0.08170394849641319, 0.08170628616453832, 0.08169232104830669, 0.08168056447580423, 0.08165945382985752, 0.08163711595866888, 0.08164688883627036, 0.08164013833486854, 0.08161835128614306, 0.08160508831244462, 0.08157630053869289, 0.08162910447469528, 0.08163035862173698, 0.08162127761315931, 0.08156496497426041, 0.08158302984276003, 0.08159398869507886, 0.08159307300910157, 0.08158100360347173, 0.08156296376766468, 0.08156819095123771, 0.08158005009270715, 0.08157540922461777, 0.08156537231841336, 0.0815844310334142, 0.08158444206483874, 0.0815975498432974, 0.08158548498150654, 0.08157417231222437, 0.08160215050669875, 0.08158261127457288, 0.08160163027239559, 0.08162862636340412, 0.08161267425318726, 0.08161098777920026, 0.08161352258376528, 0.08158124316944705, 0.08155642711473123, 0.08154786754895615, 0.08155330091772561, 0.08153754094457034, 0.08155078940690952, 0.08155134798723888, 0.0815427875418797, 0.08156210308695551, 0.08155219083161534, 0.08156852682471818, 0.08155431689763853, 0.08156140247158705, 0.08155288899440989, 0.08153871326944423, 0.08152453372665722, 0.08151379708243049, 0.08150549195765468, 0.08154478094878867, 0.08151629304204833, 0.0814943071879366, 0.08148751344574655, 0.08147937055554891, 0.0814855215963406, 0.08146251867713017, 0.0814650615379799, 0.08147697875166315, 0.08148386246756287, 0.08145105051438857, 0.0814671891256971, 0.08145742305126023, 0.08148069254534694, 0.08147970374612447, 0.08149865259938799, 0.0814869416127798, 0.08152688964949753, 0.08153859822879725, 0.08152990205168885, 0.08156704271443409, 0.08158138282499636, 0.08161501279141163, 0.08159292682028275, 0.0815660140135241, 0.08157854589722745, 0.08156891334562291, 0.08157708137798085, 0.08156925827196476, 0.08157604203901567, 0.08159802344890961, 0.08160910556552334, 0.08159746497770888, 0.08158528234223682]\n"
     ]
    },
    {
     "data": {
      "image/png": "[encoded data removed]",
      "text/plain": [
       "<Figure size 432x288 with 1 Axes>"
      ]
     },
     "metadata": {
      "needs_background": "light"
     },
     "output_type": "display_data"
    },
    {
     "name": "stdout",
     "output_type": "stream",
     "text": [
      "10\n",
      "20\n",
      "30\n",
      "40\n",
      "50\n",
      "60\n",
      "70\n",
      "80\n",
      "90\n",
      "100\n",
      "110\n",
      "120\n",
      "130\n",
      "140\n",
      "150\n",
      "160\n",
      "170\n",
      "180\n",
      "190\n",
      "200\n",
      "210\n",
      "220\n",
      "230\n",
      "240\n",
      "250\n",
      "Ошибка алгоритма из 250 деревьев глубиной 3 с шагом 0.1 на тренировочной выборке: 0.0689350786869558\n",
      "Ошибка алгоритма из 250 деревьев глубиной 3 с шагом 0.1 на тестовой выборке: 0.08200076527326135\n",
      "[0.12, 0.1153264528816047, 0.1114436473227925, 0.10806188581831257, 0.10518346505494608, 0.10274293375974772, 0.10090100878231643, 0.099147895668543, 0.09784813062644186, 0.09639886559968874, 0.09528928789900175, 0.09370637532027361, 0.09281576042340313, 0.09216562854460493, 0.09127003032077903, 0.09083051824105935, 0.09044532017862923, 0.08988015628067755, 0.08927329325083205, 0.08843076919235837, 0.08813213364910744, 0.08771381535163485, 0.08751238212784898, 0.08717065909083076, 0.08678180761559709, 0.08660450316054737, 0.08629742577245461, 0.08610417120901342, 0.08558052464894883, 0.0851392840900424, 0.0849631007235202, 0.08479657178582803, 0.08464333820912359, 0.08439523795580578, 0.08429377349453326, 0.08416120828296539, 0.0839608302510996, 0.08385025762250461, 0.08374811568457252, 0.08357558794632128, 0.08348096401228422, 0.08336133156962931, 0.08323519676522532, 0.08310808872477965, 0.08282740928680987, 0.08274884045878614, 0.08262280616472052, 0.08238084351106618, 0.08227469463935741, 0.08221710692368984, 0.08211198911987695, 0.0820658167348287, 0.0820127971311413, 0.08190636776932635, 0.08172450262385474, 0.08168401788030667, 0.08162172987033764, 0.0816098921149624, 0.08153107864403521, 0.08143661599806322, 0.08135283814069659, 0.08125211393827457, 0.081210906763604, 0.0811550759398024, 0.08111291985438646, 0.0811020341173139, 0.08110057188692239, 0.0811167276675435, 0.08109606234482737, 0.0810299047179557, 0.08101548429242796, 0.08100093840289453, 0.08103126875398703, 0.08103855443693123, 0.08101360073054528, 0.08099726374958405, 0.08099752820559193, 0.08090042234722607, 0.08086508722895455, 0.0807083057123064, 0.08065740374501815, 0.08056370503571636, 0.08060923717257326, 0.08060376627202369, 0.08058493987468077, 0.08063717764536797, 0.08064429245384865, 0.08069573510529832, 0.08069439454533794, 0.08071598055585863, 0.08073077699811429, 0.08071558963176693, 0.08072429398789453, 0.08064509827410045, 0.08067690982918062, 0.0806755331785996, 0.080659997460711, 0.08065900485557803, 0.08064081408234458, 0.08063399768080126, 0.08063671511244602, 0.08060945466664049, 0.08062580392375464, 0.08063678747657531, 0.08066357213217422, 0.080643953646612, 0.08065995924234944, 0.08068982379739177, 0.0806840608603393, 0.08070957792997376, 0.08071794130178422, 0.08073435245974141, 0.08077226435793775, 0.0807929839530864, 0.0807700334811198, 0.08074172673782261, 0.08074272112557285, 0.08075659793953449, 0.08076845014213857, 0.08079931520976125, 0.08081115591298159, 0.08082009655246813, 0.08080279373360238, 0.0808165813809093, 0.08083728922144474, 0.08082156344878141, 0.08080541446966108, 0.08079296829893355, 0.08083150331586281, 0.08083753390741553, 0.0808712672754356, 0.08089387189936786, 0.08085726324965559, 0.08086994076011368, 0.0808835665096786, 0.080903985301975, 0.08089321012387987, 0.08097562476557561, 0.08096262015948967, 0.08099478104373845, 0.08099775197414406, 0.08099953346914165, 0.08103635279777414, 0.08102221656335726, 0.08103692635025347, 0.08106159310655318, 0.0810766015842525, 0.08109320363856536, 0.08110934711761097, 0.0811249188551536, 0.081114962899815, 0.08112196411566269, 0.08114057707802322, 0.08112672080947728, 0.08118142682478986, 0.0811867188594306, 0.08123839482519586, 0.08124118159992175, 0.08126389573238466, 0.0812504638990288, 0.08127258762466202, 0.08129862609501093, 0.08130600809985121, 0.08131911420509111, 0.08130667138827467, 0.08130592915903422, 0.0813635935077721, 0.08138183502599933, 0.08140897654366268, 0.08140864817750723, 0.08143853274648094, 0.0814787214346273, 0.08149434955322048, 0.08148055040016366, 0.08147122817357874, 0.08145072502420161, 0.08145406676211447, 0.08145577810844179, 0.08146424519529996, 0.0814852119840968, 0.08149191554769482, 0.08150438720834163, 0.08149967558102007, 0.08150124300805339, 0.08149668904614228, 0.08150601855943095, 0.08151086256121631, 0.08150737682540593, 0.0815000182369481, 0.08149358110751198, 0.08152090741322943, 0.0815393449985725, 0.08154784982709547, 0.08153741350206786, 0.08156494415138492, 0.08154571304815018, 0.08156620566375249, 0.08159118182179673, 0.08160324445700595, 0.08158961788479474, 0.08159920742272748, 0.08161086024982671, 0.08161676402434694, 0.08162448852053716, 0.08163595095935039, 0.08165131901190996, 0.08167101276724793, 0.08166953805131703, 0.08166511309118595, 0.08169542308036364, 0.08172280603115487, 0.08172589174426433, 0.08174163195507542, 0.0817570918787345, 0.08175501571259422, 0.08176484768505557, 0.0817987743452872, 0.08178737851017076, 0.08184585178026724, 0.0818550282636546, 0.08187081402766211, 0.08187414771057316, 0.08188771769978914, 0.08190067184749728, 0.08190475545183373, 0.08192254397528975, 0.08194502742704482, 0.0819237146431353, 0.08194777921247913, 0.08197187541812499, 0.08198779120664022, 0.08199554819514367, 0.08197808317294318, 0.08198277238345618, 0.0819425253597549, 0.08194892473754162, 0.08193327227844235, 0.08192150208515271, 0.08191542614034907, 0.08190851080058048, 0.08193817727620169, 0.08197741077006351, 0.08203903694660962, 0.08205433574101621, 0.08204317299464395, 0.08201645775879628, 0.08200165772110479, 0.08199720705799114, 0.0820108569738315, 0.08199554921934693]\n"
     ]
    },
    {
     "data": {
      "image/png": "[encoded data removed]",
      "text/plain": [
       "<Figure size 432x288 with 1 Axes>"
      ]
     },
     "metadata": {
      "needs_background": "light"
     },
     "output_type": "display_data"
    },
    {
     "name": "stdout",
     "output_type": "stream",
     "text": [
      "10\n",
      "20\n",
      "30\n",
      "40\n",
      "50\n",
      "60\n",
      "70\n",
      "80\n",
      "90\n",
      "100\n",
      "110\n",
      "120\n",
      "130\n",
      "140\n",
      "150\n",
      "160\n",
      "170\n",
      "180\n",
      "190\n",
      "200\n",
      "210\n",
      "220\n",
      "230\n",
      "240\n",
      "250\n",
      "Ошибка алгоритма из 250 деревьев глубиной 4 с шагом 0.1 на тренировочной выборке: 0.06130660574435738\n",
      "Ошибка алгоритма из 250 деревьев глубиной 4 с шагом 0.1 на тестовой выборке: 0.0839658367291162\n",
      "[0.12, 0.11483865387924247, 0.11055926006851748, 0.10690429871843818, 0.10386436275825127, 0.10081314909020157, 0.09889467948981424, 0.09662346199888316, 0.09503966292441517, 0.09353699451877591, 0.09224063412813714, 0.0907902655064026, 0.0899136454053441, 0.0891140710409269, 0.08837078810512305, 0.08727715918480974, 0.08679549358040578, 0.0863857181521506, 0.08588657628314583, 0.08525968763024387, 0.08488574438084781, 0.0845454929114956, 0.08419798486907133, 0.08392183957928658, 0.08372063041734563, 0.08351490550195319, 0.08330484419636913, 0.08323219347475753, 0.08300841281034531, 0.08281044502951951, 0.08259625420029125, 0.08228269692702125, 0.08212146575403387, 0.08187708218873736, 0.0817976607156484, 0.08168140765269699, 0.08164726029879762, 0.0815877747570867, 0.0815976121405205, 0.0815101715320763, 0.08152816291472319, 0.08154602804358041, 0.0814802656764452, 0.08142761138114088, 0.08123051166432084, 0.08125500480243805, 0.08129600805560046, 0.08118797329351582, 0.08123890863710909, 0.08124564995666772, 0.0812727287286876, 0.081271830820539, 0.08128655824735466, 0.08115541682701452, 0.08102331872378936, 0.08093966882552447, 0.08094821654491115, 0.08091417777631194, 0.08082851720338362, 0.08084194582976849, 0.08081536078212175, 0.08085369700196285, 0.0808784773682773, 0.08092728475879886, 0.08094009391055135, 0.0809763866217713, 0.08100671010752311, 0.08096015075905581, 0.08096304237845653, 0.0809620031736805, 0.08091070102095174, 0.08098196394329207, 0.08099456435048695, 0.08095643605806818, 0.08101277868940641, 0.08108339375813656, 0.08104527019670325, 0.08100236562149904, 0.0810935032664159, 0.08107798053964108, 0.08109658472923753, 0.08113360779450292, 0.08114227869926771, 0.08116916497200445, 0.08116588265463574, 0.08124542897313303, 0.08123007447385956, 0.08117312863778711, 0.08123811244049718, 0.08122888723364875, 0.08124276502179875, 0.08122460654878168, 0.0812697846743433, 0.0812846246468961, 0.08129915940988562, 0.0813396436915982, 0.08132078508886288, 0.08133946169141246, 0.08136066888720374, 0.08145084122725624, 0.08150466798286596, 0.08147903444167914, 0.08153375419606967, 0.08152603224084168, 0.08151803363229779, 0.08154451943930396, 0.08153342893745491, 0.0815358676623206, 0.08152309311995774, 0.08151198578200369, 0.08155118525164144, 0.08156790511606359, 0.08168900810772584, 0.08168777444003858, 0.08169260065002953, 0.08170848202478459, 0.08169759905517186, 0.08173962948335148, 0.08175214528784044, 0.08174832939597661, 0.08176591598436783, 0.08179878328936191, 0.08182166540688919, 0.08185680594184544, 0.08186541112796285, 0.08186188262680366, 0.0818979930157521, 0.08190619288853862, 0.0819468742448004, 0.08198211718612906, 0.08200846679075785, 0.08207883429040579, 0.08209358036982349, 0.08210689293644557, 0.08215535177372756, 0.08215255784386358, 0.08215762019454476, 0.08221969948518792, 0.08229346910519886, 0.08232234293079548, 0.08233457811273914, 0.08230099006243095, 0.08232207408113729, 0.08237281531508739, 0.08243455214887326, 0.08256581951308886, 0.08253480094328615, 0.08260667393443812, 0.08262540798939387, 0.08258251831018594, 0.08256700525642251, 0.08256452025790215, 0.08260011201274119, 0.08264150458600415, 0.08266349425862907, 0.08273815978812228, 0.08276506519515757, 0.08274564748761923, 0.08278634017571773, 0.08282061613344506, 0.08282730364306179, 0.08276222458287569, 0.08277074374272719, 0.08277424376342545, 0.08280706228097716, 0.08284203348453129, 0.082896419222707, 0.08290882061355098, 0.08296588804570275, 0.0830112948354879, 0.08307599631758388, 0.08307167523476865, 0.08301835269584842, 0.08301777867055084, 0.0830970942626644, 0.08309955825212703, 0.08309151894245212, 0.0831026058997281, 0.08315437761269355, 0.08315861634136779, 0.0832097038476169, 0.08324066590617989, 0.08324662651203649, 0.0833163666018406, 0.08337228221549063, 0.08344547616749147, 0.08335663510567051, 0.08336818864030797, 0.08339345814128812, 0.08342937277870142, 0.08348195383666658, 0.08341881403256432, 0.08334794580879915, 0.08335953629044035, 0.08338983747386092, 0.0834043609773496, 0.08337729987501914, 0.08337819110864987, 0.08339328072915196, 0.08340972655991012, 0.08334306228680499, 0.083356920770558, 0.0833722487845089, 0.0833831885493818, 0.08339141490588392, 0.0834393466565284, 0.08343232345996675, 0.08345858537877453, 0.08350291631997486, 0.0835327825847898, 0.0835532691797513, 0.08356798430774903, 0.0836102825983303, 0.08353994469493878, 0.08355976927929515, 0.08359558410739554, 0.083631858024579, 0.0836035464493048, 0.0836280959619242, 0.08365806563155785, 0.08368525727376852, 0.08373680510658157, 0.08370144652695025, 0.08371335155855979, 0.08368890280637789, 0.08374778277994749, 0.08374956597341823, 0.08374434065204509, 0.08376495342345479, 0.08371326312926333, 0.08373034493492262, 0.08372671912650474, 0.08374011296102128, 0.08368796015652102, 0.0837029452783396, 0.08367958912185305, 0.08368020444793123, 0.08370259338521176, 0.08376019811497686, 0.08372334622532868, 0.08381199009041417, 0.08381284781709078, 0.0838208523898006, 0.08384636651545672, 0.08388685576928745, 0.0838737009234255, 0.08392775880014124, 0.0839098343234151, 0.08392509191353542, 0.08393865108188453]\n"
     ]
    },
    {
     "data": {
      "image/png": "[encoded data removed]",
      "text/plain": [
       "<Figure size 432x288 with 1 Axes>"
      ]
     },
     "metadata": {
      "needs_background": "light"
     },
     "output_type": "display_data"
    },
    {
     "name": "stdout",
     "output_type": "stream",
     "text": [
      "10\n",
      "20\n",
      "30\n",
      "40\n",
      "50\n",
      "60\n",
      "70\n",
      "80\n",
      "90\n",
      "100\n",
      "110\n",
      "120\n",
      "130\n",
      "140\n",
      "150\n",
      "160\n",
      "170\n",
      "180\n",
      "190\n",
      "200\n",
      "210\n",
      "220\n",
      "230\n",
      "240\n",
      "250\n",
      "Ошибка алгоритма из 250 деревьев глубиной 5 с шагом 0.1 на тренировочной выборке: 0.05297452291718303\n",
      "Ошибка алгоритма из 250 деревьев глубиной 5 с шагом 0.1 на тестовой выборке: 0.08576384526512529\n",
      "[0.12, 0.11456221681273751, 0.11011264691425153, 0.10582814693550205, 0.1022119243485251, 0.09930744228536711, 0.09688855672612863, 0.0949572023067737, 0.09335441936843666, 0.09198947379962832, 0.09063272408689034, 0.08976366172579109, 0.0883717238369305, 0.0872563693150469, 0.0865593295113196, 0.08595892765879322, 0.08548133867645205, 0.08480170134901192, 0.08424131161737525, 0.08390632921936522, 0.08343261570365164, 0.08309638375152233, 0.0828653754249102, 0.08264127562685457, 0.08243855382673963, 0.08223319849663051, 0.0820978787612329, 0.08194024010321337, 0.08187681133928751, 0.08162470391911676, 0.08155155899634309, 0.08154691781085437, 0.08144272552182019, 0.08136078475171422, 0.08134999103789006, 0.08134939854806252, 0.08131022836198516, 0.08123922753808994, 0.08114007867446528, 0.08109340959977876, 0.08112571806275666, 0.08121120231414423, 0.08121981896970638, 0.08110625484258607, 0.08118328126424568, 0.08114767773933476, 0.08099728873396647, 0.080918354436753, 0.08098225253638203, 0.08104364308483707, 0.08103599814596969, 0.0810785741426371, 0.08109746655648353, 0.08109761030966146, 0.0810910794021853, 0.08104302591563209, 0.08108650759058077, 0.08114622552212335, 0.08114316018397819, 0.0811788134016255, 0.08122168442724097, 0.08120275714781201, 0.08111382364607297, 0.08117085795324225, 0.08114224006148546, 0.08111021206745418, 0.08123261248193975, 0.08122343465451047, 0.08128817139952994, 0.08135295010037283, 0.08140721684958331, 0.08141966732323991, 0.08150291395871039, 0.08158885378815453, 0.08161820772756602, 0.08166389522809589, 0.08176058898996487, 0.08184303251896069, 0.08191344615218021, 0.08205745773461959, 0.08205195715353293, 0.08206924538178835, 0.08208388885318509, 0.08213702330865122, 0.08218747393266326, 0.08216939472876597, 0.08216418972396808, 0.08215921401164333, 0.08210959736843813, 0.08214083518510498, 0.08219594204275256, 0.08222839933422421, 0.08227564228924027, 0.08222801076101453, 0.08221630987238601, 0.08220902894474051, 0.08222579527638407, 0.08223904209407691, 0.08224087461273304, 0.08231215834369854, 0.08237041041182146, 0.08236571140761507, 0.08246197492574074, 0.08257272738847432, 0.08265974981221325, 0.08274827043450834, 0.08281341489409816, 0.08279156494197007, 0.08279027579673538, 0.08287226219817338, 0.08281116466856289, 0.08288508206915308, 0.08289595293426343, 0.08293837926863903, 0.08292142899967123, 0.08300435613065855, 0.0830976266097188, 0.0830247016393351, 0.0830093395185795, 0.08303203981111755, 0.08310499592814431, 0.08310110043921934, 0.0831125117431554, 0.08314938413660625, 0.08319825636651464, 0.08324000521529418, 0.08320269108295313, 0.08320435333198926, 0.08322572382353335, 0.08325181204996164, 0.08328955587763041, 0.08330175280509554, 0.08332628779077969, 0.08332236787542893, 0.08331435606317857, 0.08329318775034265, 0.08333442251159974, 0.0834723300926182, 0.08352939227706604, 0.08359187701498817, 0.08358341970065254, 0.08355977749433158, 0.08358379230926725, 0.08363570777495832, 0.0837538297820523, 0.08374252619061838, 0.08375090882741154, 0.08375886648208399, 0.08376704949872903, 0.08374621047431707, 0.08373679974622218, 0.08375889084273201, 0.08377146554673903, 0.08388339061826543, 0.08384877035142478, 0.08389246521395001, 0.08390174107150242, 0.08390557500785539, 0.08388467029871201, 0.0838988556843391, 0.08391021509393613, 0.08390504115418845, 0.08389484672657604, 0.08388759025013189, 0.08396994311275752, 0.08403413586264066, 0.08411127160383187, 0.0842077872022893, 0.08423192471015452, 0.08426284835140213, 0.0842674653320423, 0.08428804228298241, 0.08438553954344596, 0.08437349808870197, 0.0843939053409389, 0.08442093693821179, 0.08444663816215582, 0.08448063896832904, 0.0844848600223928, 0.08450423797049285, 0.08457632760105027, 0.08460244000409552, 0.08464140736029072, 0.08460189901663646, 0.0846151354968016, 0.08464349414778065, 0.08465530981477364, 0.08461284385993113, 0.08463729945173017, 0.08466902810381853, 0.08471357562228539, 0.08474363660727353, 0.08477364375941453, 0.08482451257830981, 0.08478953114805497, 0.08475186159195101, 0.08476797235192571, 0.08475684449757574, 0.0847913903011194, 0.08485784834570975, 0.0849158750385892, 0.08485773086260195, 0.08490457095272798, 0.08498941234893456, 0.08500440807484537, 0.08500859453692851, 0.08501822421389528, 0.0850538779303097, 0.08502338485320005, 0.08511197427462869, 0.08510390680136568, 0.08511087111570538, 0.08517274292081597, 0.08523383956013866, 0.08525819397843103, 0.08527782505620873, 0.08531889873121172, 0.08538510510665245, 0.08541977735929587, 0.08542656296499476, 0.08543607741291549, 0.08540597428935892, 0.0854410756541761, 0.0855066236001878, 0.08553027954332681, 0.08553846675692857, 0.0854801697489674, 0.08550150501449154, 0.08550601200751162, 0.0854876813266902, 0.08554372574299336, 0.08557827763833578, 0.08556868059329682, 0.08560409126936558, 0.08561202423084115, 0.08561535107484218, 0.08558929863517241, 0.08561821455856095, 0.08558988725658906, 0.08561061064307071, 0.0856298077138638, 0.08569069840100806, 0.08572396233246406, 0.08571839627428869, 0.08571274237820702, 0.08574960974753848, 0.08578250425179379, 0.08572498032666548, 0.08569075575351574, 0.08570322675021108]\n"
     ]
    },
    {
     "data": {
      "image/png": "[encoded data removed]",
      "text/plain": [
       "<Figure size 432x288 with 1 Axes>"
      ]
     },
     "metadata": {
      "needs_background": "light"
     },
     "output_type": "display_data"
    },
    {
     "name": "stdout",
     "output_type": "stream",
     "text": [
      "10\n",
      "20\n",
      "30\n",
      "40\n",
      "50\n",
      "60\n",
      "70\n",
      "80\n",
      "90\n",
      "100\n",
      "110\n",
      "120\n",
      "130\n",
      "140\n",
      "150\n",
      "160\n",
      "170\n",
      "180\n",
      "190\n",
      "200\n",
      "210\n",
      "220\n",
      "230\n",
      "240\n",
      "250\n",
      "Ошибка алгоритма из 250 деревьев глубиной 6 с шагом 0.1 на тренировочной выборке: 0.04475877279524966\n",
      "Ошибка алгоритма из 250 деревьев глубиной 6 с шагом 0.1 на тестовой выборке: 0.08927210107561125\n",
      "[0.12, 0.1141893120738338, 0.10923478460588885, 0.10514218146494964, 0.10197541739284734, 0.09899336617217133, 0.09612362182192295, 0.09417711448631393, 0.09224188747829197, 0.09079797857152941, 0.0896617426888729, 0.08888564328511224, 0.08788146572472781, 0.08702209627003686, 0.08633175359834498, 0.08580136324089707, 0.08544979396547248, 0.0849605163126603, 0.08447113731834327, 0.0842060954191717, 0.08390326292742634, 0.08380006515830762, 0.08363290210655827, 0.08320492111605725, 0.08312826646293273, 0.0829778329811511, 0.08276785140381455, 0.08266212050314191, 0.08263852013864573, 0.08256437965500565, 0.08250264842912144, 0.08256823836352223, 0.0825969031025281, 0.08253971693711581, 0.08250644714939742, 0.08234497506821739, 0.08222027937013222, 0.08222399232896993, 0.08227321681943012, 0.08233098835436671, 0.08234159757772455, 0.082230596505838, 0.08212545543595186, 0.08219541278644461, 0.08221438325491258, 0.08229835707880664, 0.08229401030610912, 0.08231158266884574, 0.08240410039027575, 0.08245916782624095, 0.08250745854068625, 0.08253909152676663, 0.08254529868218209, 0.08254614543852772, 0.082638660925585, 0.08262890537047159, 0.0824764234725527, 0.08257239410347378, 0.08265620497584826, 0.08271514852322875, 0.08265885922621811, 0.08276144590505964, 0.08284994752580939, 0.08290923345625299, 0.08294304803219331, 0.08282994100779352, 0.08283189188620085, 0.08289072911011586, 0.08302519131729931, 0.08306330273108872, 0.08302284512892871, 0.08311676750690222, 0.08307174711516406, 0.08314786109835645, 0.0832263779601241, 0.08321136866429397, 0.08327073065644375, 0.08332009274945909, 0.08331482132256934, 0.08336494371400088, 0.08342555822527405, 0.08344060457946532, 0.08340931812916554, 0.08345923140368802, 0.08346224832990694, 0.0835243262749898, 0.08359233331294981, 0.08360073896443873, 0.08354928171667524, 0.08353799425938264, 0.0836262401257431, 0.08372719188297996, 0.08377766837505901, 0.08372674828726064, 0.08379238241725813, 0.08385502135665655, 0.08395598738269361, 0.08396836772524567, 0.0839398920128858, 0.08396382367319148, 0.08395582336401886, 0.08400094633181181, 0.08405182678317458, 0.08406512331413828, 0.08416174101903351, 0.08438474520802317, 0.08443463503366186, 0.08454061733591614, 0.08453893777573701, 0.08456702042217024, 0.08456355775772924, 0.08452091977622425, 0.08464981967122563, 0.08483661703851965, 0.08480973276250911, 0.08491756524466289, 0.08493814185447363, 0.0849578701926722, 0.08499526885221441, 0.08501561277514685, 0.08504427743857719, 0.08505472896630704, 0.08514096985765753, 0.08530639549645039, 0.0853540419745234, 0.0854477476235123, 0.08545002929268687, 0.08545856503161524, 0.08549012657209967, 0.08553865268725662, 0.08561729460216183, 0.0857341319942503, 0.08571851232305759, 0.08573242846998644, 0.08577616798223756, 0.08581450753749628, 0.0858438858817197, 0.08588953283181075, 0.0858532931652953, 0.08587455034427123, 0.08595556388868618, 0.08598972853865382, 0.08611103950305636, 0.0861705946940113, 0.08624403297043781, 0.08630832716084261, 0.08637217850707413, 0.08642309616556137, 0.08650258761653114, 0.08654377184758702, 0.08658842295844581, 0.08656006851503531, 0.08653363982888171, 0.08651569532646754, 0.08666130966931865, 0.08665136143173015, 0.08672559401404127, 0.08677124619217393, 0.08676751938793176, 0.0868015647877496, 0.0868009816120862, 0.08682528181787595, 0.08681698933093827, 0.08682116477876121, 0.08690077402067942, 0.08694002674876647, 0.086939021070495, 0.08692990723574368, 0.08695826064055277, 0.08705348497515723, 0.08705665529165574, 0.0870978061520331, 0.08719076813431337, 0.08722655706268974, 0.08717790883895508, 0.08722022542851612, 0.087397088169114, 0.0874223116151684, 0.08741712513801807, 0.08742108328793698, 0.08740342894239099, 0.0872567300554941, 0.08735219193870494, 0.08733098051931838, 0.08732471341660628, 0.08744131284639663, 0.08750987702816178, 0.08749418396648888, 0.0876138952216132, 0.08775598214219407, 0.0878009550708695, 0.0878456662666699, 0.08787761424995542, 0.08788778621797845, 0.08791326649324442, 0.08793638542688964, 0.08797271253744118, 0.08806555617641187, 0.08806176424327937, 0.08814095355402325, 0.08815198389119563, 0.08823427604311412, 0.08825166100048795, 0.08831333086533386, 0.08833347084355254, 0.08836479643002042, 0.08842443120817842, 0.08843719620863487, 0.08844073108483123, 0.08845316433990051, 0.08848120605622214, 0.08853475071120148, 0.08854068679185889, 0.08855082690560526, 0.0884669469574607, 0.08844521292019414, 0.08848487015307088, 0.08847616139995275, 0.08841760592750907, 0.08842582142109298, 0.08844616236216071, 0.08850711504143463, 0.08851194949159184, 0.08852762966069719, 0.08858072428396273, 0.08860558268427374, 0.0886210757145318, 0.08863438872432429, 0.08867320807135369, 0.08872513148223724, 0.08870155100395027, 0.08871206624082334, 0.08872094234254155, 0.08866055705645422, 0.08872611573144934, 0.08877924043220722, 0.08877066886582065, 0.08884099030593505, 0.08891503867995088, 0.08895675074156227, 0.08906587038837324, 0.08915447047465135, 0.08913762710302095, 0.08919721737170005, 0.08922247190747327, 0.08920202152722544, 0.08921131499354254, 0.08925437526447721, 0.08925589118406259, 0.08926176524511495]\n"
     ]
    },
    {
     "data": {
      "image/png": "[encoded data removed]",
      "text/plain": [
       "<Figure size 432x288 with 1 Axes>"
      ]
     },
     "metadata": {
      "needs_background": "light"
     },
     "output_type": "display_data"
    },
    {
     "name": "stdout",
     "output_type": "stream",
     "text": [
      "Лучшие параметры: Ошибка алгоритма из 250 деревьев глубиной 2 с шагом 0.1 на тестовой выборке: 0.08157734543778594\n"
     ]
    }
   ],
   "source": [
    "n_trees_l = [250]\n",
    "max_depth_l = [2, 3, 4, 5, 6]\n",
    "eta_l = [0.1]\n",
    "\n",
    "tr_b, dp_b, et_b = grid_mtr(n_trees_l, max_depth_l, eta_l, X, y)"
   ]
  },
  {
   "cell_type": "code",
   "execution_count": 25,
   "metadata": {},
   "outputs": [],
   "source": [
    "def gb_fit_fin(n_trees, max_depth, X, y, coefs, eta):\n",
    "    \n",
    "    # Деревья будем записывать в список\n",
    "    trees = []\n",
    "    \n",
    "    # Будем записывать ошибки\n",
    "    errors = []\n",
    "    \n",
    "    for i in range(n_trees):\n",
    "\n",
    "        # инициализируем бустинг начальным алгоритмом, возвращающим ноль, \n",
    "        # поэтому первый алгоритм просто обучаем на выборке и добавляем в список\n",
    "        if len(trees) == 0:\n",
    "            # обучаем первое дерево на обучающей выборке\n",
    "            tree = build_tree_reg_depth_lim(X, y, max_depth)\n",
    "            \n",
    "            errors.append(mean_squared_error(y, gb_predict_m(X, trees, coefs, eta)))\n",
    "        else:\n",
    "            # Получим ответы на текущей композиции\n",
    "            target = gb_predict_m(X, trees, coefs, eta)\n",
    "            \n",
    "            # алгоритмы начиная со второго обучаем на сдвиг\n",
    "            tree = build_tree_reg_depth_lim(X, bias(y, target), max_depth)\n",
    "            \n",
    "            errors.append(mean_squared_error(y, gb_predict_m(X, trees, coefs, eta)))\n",
    "\n",
    "        trees.append(tree)\n",
    "        \n",
    "    return trees, errors"
   ]
  },
  {
   "cell_type": "code",
   "execution_count": 26,
   "metadata": {},
   "outputs": [],
   "source": [
    "coefs = [1] * tr_b # для простоты примем коэффициенты равными 1\n",
    "\n",
    "trees, errors = gb_fit_fin(tr_b, dp_b, X, y, coefs, et_b)"
   ]
  },
  {
   "cell_type": "code",
   "execution_count": 27,
   "metadata": {},
   "outputs": [],
   "source": [
    "prediction = gb_predict_m(test_X, trees, coefs, et_b)"
   ]
  },
  {
   "cell_type": "code",
   "execution_count": 28,
   "metadata": {},
   "outputs": [],
   "source": [
    "prediction[prediction < 0] = 0\n",
    "prediction[prediction > 1] = 1"
   ]
  },
  {
   "cell_type": "code",
   "execution_count": 29,
   "metadata": {},
   "outputs": [
    {
     "data": {
      "text/html": [
       "<div>\n",
       "<style scoped>\n",
       "    .dataframe tbody tr th:only-of-type {\n",
       "        vertical-align: middle;\n",
       "    }\n",
       "\n",
       "    .dataframe tbody tr th {\n",
       "        vertical-align: top;\n",
       "    }\n",
       "\n",
       "    .dataframe thead th {\n",
       "        text-align: right;\n",
       "    }\n",
       "</style>\n",
       "<table border=\"1\" class=\"dataframe\">\n",
       "  <thead>\n",
       "    <tr style=\"text-align: right;\">\n",
       "      <th></th>\n",
       "      <th>Id</th>\n",
       "      <th>choose</th>\n",
       "    </tr>\n",
       "  </thead>\n",
       "  <tbody>\n",
       "    <tr>\n",
       "      <th>0</th>\n",
       "      <td>10000</td>\n",
       "      <td>0.011411</td>\n",
       "    </tr>\n",
       "    <tr>\n",
       "      <th>1</th>\n",
       "      <td>10001</td>\n",
       "      <td>0.207379</td>\n",
       "    </tr>\n",
       "    <tr>\n",
       "      <th>2</th>\n",
       "      <td>10002</td>\n",
       "      <td>0.000000</td>\n",
       "    </tr>\n",
       "    <tr>\n",
       "      <th>3</th>\n",
       "      <td>10003</td>\n",
       "      <td>0.013938</td>\n",
       "    </tr>\n",
       "    <tr>\n",
       "      <th>4</th>\n",
       "      <td>10004</td>\n",
       "      <td>0.159371</td>\n",
       "    </tr>\n",
       "    <tr>\n",
       "      <th>...</th>\n",
       "      <td>...</td>\n",
       "      <td>...</td>\n",
       "    </tr>\n",
       "    <tr>\n",
       "      <th>9995</th>\n",
       "      <td>19995</td>\n",
       "      <td>0.175446</td>\n",
       "    </tr>\n",
       "    <tr>\n",
       "      <th>9996</th>\n",
       "      <td>19996</td>\n",
       "      <td>0.083064</td>\n",
       "    </tr>\n",
       "    <tr>\n",
       "      <th>9997</th>\n",
       "      <td>19997</td>\n",
       "      <td>0.285927</td>\n",
       "    </tr>\n",
       "    <tr>\n",
       "      <th>9998</th>\n",
       "      <td>19998</td>\n",
       "      <td>0.798624</td>\n",
       "    </tr>\n",
       "    <tr>\n",
       "      <th>9999</th>\n",
       "      <td>19999</td>\n",
       "      <td>0.152158</td>\n",
       "    </tr>\n",
       "  </tbody>\n",
       "</table>\n",
       "<p>10000 rows × 2 columns</p>\n",
       "</div>"
      ],
      "text/plain": [
       "         Id    choose\n",
       "0     10000  0.011411\n",
       "1     10001  0.207379\n",
       "2     10002  0.000000\n",
       "3     10003  0.013938\n",
       "4     10004  0.159371\n",
       "...     ...       ...\n",
       "9995  19995  0.175446\n",
       "9996  19996  0.083064\n",
       "9997  19997  0.285927\n",
       "9998  19998  0.798624\n",
       "9999  19999  0.152158\n",
       "\n",
       "[10000 rows x 2 columns]"
      ]
     },
     "execution_count": 29,
     "metadata": {},
     "output_type": "execute_result"
    }
   ],
   "source": [
    "res = test[['Id']].copy()\n",
    "res = pd.concat([res, pd.DataFrame(prediction, columns=['choose'])], axis=1)\n",
    "res"
   ]
  },
  {
   "cell_type": "code",
   "execution_count": 30,
   "metadata": {},
   "outputs": [],
   "source": [
    "res.to_csv(\"viv_cl_02.csv\", sep=\",\", index=False)"
   ]
  },
  {
   "cell_type": "markdown",
   "metadata": {},
   "source": [
    "# Методы классификации"
   ]
  },
  {
   "cell_type": "markdown",
   "metadata": {},
   "source": [
    "## KNN"
   ]
  },
  {
   "cell_type": "code",
   "execution_count": 31,
   "metadata": {},
   "outputs": [],
   "source": [
    "def calc_std_feat(x):\n",
    "    res = (x - x.mean()) / x.std()\n",
    "    return res"
   ]
  },
  {
   "cell_type": "code",
   "execution_count": 32,
   "metadata": {},
   "outputs": [
    {
     "data": {
      "text/plain": [
       "array([[3.50e+01, 0.00e+00, 2.15e+03, ..., 0.00e+00, 0.00e+00, 7.40e+01],\n",
       "       [5.20e+01, 2.00e+00, 1.25e+03, ..., 0.00e+00, 1.00e+00, 5.70e+01],\n",
       "       [2.90e+01, 3.00e+00, 1.75e+03, ..., 0.00e+00, 0.00e+00, 6.60e+01],\n",
       "       ...,\n",
       "       [4.40e+01, 5.00e+00, 1.75e+03, ..., 0.00e+00, 1.00e+00, 5.90e+01],\n",
       "       [4.10e+01, 0.00e+00, 1.70e+03, ..., 0.00e+00, 0.00e+00, 7.20e+01],\n",
       "       [4.10e+01, 5.00e+00, 1.20e+03, ..., 0.00e+00, 0.00e+00, 4.00e+01]])"
      ]
     },
     "execution_count": 32,
     "metadata": {},
     "output_type": "execute_result"
    }
   ],
   "source": [
    "X_std = X.copy()\n",
    "X_std"
   ]
  },
  {
   "cell_type": "code",
   "execution_count": 33,
   "metadata": {},
   "outputs": [
    {
     "data": {
      "text/plain": [
       "array([[-1.34508978, -1.11773006,  0.85450883, ...,  0.        ,\n",
       "         0.        ,  0.7035867 ],\n",
       "       [ 0.77200475,  0.01426311, -0.86382602, ...,  0.        ,\n",
       "         1.        , -0.54693332],\n",
       "       [-2.09229961,  0.5802597 ,  0.09080445, ...,  0.        ,\n",
       "         0.        ,  0.11510669],\n",
       "       ...,\n",
       "       [-0.22427503,  1.71225287,  0.09080445, ...,  0.        ,\n",
       "         1.        , -0.39981332],\n",
       "       [-0.59787995, -1.11773006, -0.0046586 , ...,  0.        ,\n",
       "         0.        ,  0.5564667 ],\n",
       "       [-0.59787995,  1.71225287, -0.95928907, ...,  0.        ,\n",
       "         0.        , -1.79745335]])"
      ]
     },
     "execution_count": 33,
     "metadata": {},
     "output_type": "execute_result"
    }
   ],
   "source": [
    "X_std[:, 0] = calc_std_feat(X_std[:, 0])\n",
    "X_std[:, 1] = calc_std_feat(X_std[:, 1])\n",
    "X_std[:, 2] = calc_std_feat(X_std[:, 2])\n",
    "X_std[:, 3] = calc_std_feat(X_std[:, 3])\n",
    "X_std[:,10] = calc_std_feat(X_std[:,10])\n",
    "X_std"
   ]
  },
  {
   "cell_type": "code",
   "execution_count": 34,
   "metadata": {},
   "outputs": [
    {
     "data": {
      "text/plain": [
       "array([[-1.34508978, -1.11773006,  0.85450883,  0.34514053,  0.7035867 ],\n",
       "       [ 0.77200475,  0.01426311, -0.86382602,  0.34514053, -0.54693332],\n",
       "       [-2.09229961,  0.5802597 ,  0.09080445, -0.90672937,  0.11510669],\n",
       "       ...,\n",
       "       [-0.22427503,  1.71225287,  0.09080445, -0.90672937, -0.39981332],\n",
       "       [-0.59787995, -1.11773006, -0.0046586 ,  0.34514053,  0.5564667 ],\n",
       "       [-0.59787995,  1.71225287, -0.95928907, -0.90672937, -1.79745335]])"
      ]
     },
     "execution_count": 34,
     "metadata": {},
     "output_type": "execute_result"
    }
   ],
   "source": [
    "X_std_crop = X_std.copy()\n",
    "X_std_crop = np.delete(X_std, [4, 5, 6, 7, 8, 9], axis=1)\n",
    "X_std_crop"
   ]
  },
  {
   "cell_type": "code",
   "execution_count": 35,
   "metadata": {},
   "outputs": [
    {
     "data": {
      "text/plain": [
       "array([[3.20e+01, 2.00e+00, 2.70e+03, ..., 0.00e+00, 0.00e+00, 9.00e+01],\n",
       "       [3.50e+01, 6.00e+00, 1.80e+03, ..., 0.00e+00, 0.00e+00, 7.10e+01],\n",
       "       [4.40e+01, 2.00e+00, 1.20e+03, ..., 0.00e+00, 0.00e+00, 4.50e+01],\n",
       "       ...,\n",
       "       [4.40e+01, 2.00e+00, 1.25e+03, ..., 0.00e+00, 0.00e+00, 6.30e+01],\n",
       "       [5.10e+01, 5.00e+00, 1.00e+03, ..., 0.00e+00, 0.00e+00, 6.40e+01],\n",
       "       [4.30e+01, 0.00e+00, 1.50e+03, ..., 0.00e+00, 0.00e+00, 4.10e+01]])"
      ]
     },
     "execution_count": 35,
     "metadata": {},
     "output_type": "execute_result"
    }
   ],
   "source": [
    "test_X_std = test_X.copy()\n",
    "test_X_std"
   ]
  },
  {
   "cell_type": "code",
   "execution_count": 36,
   "metadata": {},
   "outputs": [
    {
     "data": {
      "text/plain": [
       "array([[-1.73371969,  0.00807395,  1.90046712, ...,  0.        ,\n",
       "         0.        ,  1.90506341],\n",
       "       [-1.36019396,  2.26652127,  0.19020064, ...,  0.        ,\n",
       "         0.        ,  0.50485588],\n",
       "       [-0.23961676,  0.00807395, -0.94997702, ...,  0.        ,\n",
       "         0.        , -1.41121759],\n",
       "       ...,\n",
       "       [-0.23961676,  0.00807395, -0.85496222, ...,  0.        ,\n",
       "         0.        , -0.08470519],\n",
       "       [ 0.63194329,  1.70190944, -1.33003624, ...,  0.        ,\n",
       "         0.        , -0.01101005],\n",
       "       [-0.36412533, -1.12114971, -0.37988819, ...,  0.        ,\n",
       "         0.        , -1.70599812]])"
      ]
     },
     "execution_count": 36,
     "metadata": {},
     "output_type": "execute_result"
    }
   ],
   "source": [
    "test_X_std[:, 0] = calc_std_feat(test_X_std[:, 0])\n",
    "test_X_std[:, 1] = calc_std_feat(test_X_std[:, 1])\n",
    "test_X_std[:, 2] = calc_std_feat(test_X_std[:, 2])\n",
    "test_X_std[:, 3] = calc_std_feat(test_X_std[:, 3])\n",
    "test_X_std[:,10] = calc_std_feat(test_X_std[:,10])\n",
    "test_X_std"
   ]
  },
  {
   "cell_type": "code",
   "execution_count": 37,
   "metadata": {},
   "outputs": [
    {
     "data": {
      "text/plain": [
       "array([[-1.73371969,  0.00807395,  1.90046712,  1.64348174,  1.90506341],\n",
       "       [-1.36019396,  2.26652127,  0.19020064,  0.37702436,  0.50485588],\n",
       "       [-0.23961676,  0.00807395, -0.94997702, -0.88943302, -1.41121759],\n",
       "       ...,\n",
       "       [-0.23961676,  0.00807395, -0.85496222, -0.88943302, -0.08470519],\n",
       "       [ 0.63194329,  1.70190944, -1.33003624,  0.37702436, -0.01101005],\n",
       "       [-0.36412533, -1.12114971, -0.37988819, -0.88943302, -1.70599812]])"
      ]
     },
     "execution_count": 37,
     "metadata": {},
     "output_type": "execute_result"
    }
   ],
   "source": [
    "test_X_std_crop = test_X_std.copy()\n",
    "test_X_std_crop = np.delete(test_X_std, [4, 5, 6, 7, 8, 9], axis=1)\n",
    "test_X_std_crop"
   ]
  },
  {
   "cell_type": "code",
   "execution_count": 38,
   "metadata": {},
   "outputs": [],
   "source": [
    "def e_metrics(x1, x2):\n",
    "    \n",
    "    distance = 0\n",
    "    for i in range(len(x1)):\n",
    "        distance += np.square(x1[i] - x2[i])\n",
    "    \n",
    "    return np.sqrt(distance)"
   ]
  },
  {
   "cell_type": "code",
   "execution_count": 39,
   "metadata": {},
   "outputs": [],
   "source": [
    "def knn(x_train, y_train, x_test, k):\n",
    "    \n",
    "    answers = []\n",
    "    j = 1\n",
    "    for x in x_test:\n",
    "        test_distances = []\n",
    "            \n",
    "        for i in range(len(x_train)):\n",
    "            \n",
    "            # расчет расстояния от классифицируемого объекта до\n",
    "            # объекта обучающей выборки\n",
    "            distance = e_metrics(x, x_train[i])\n",
    "            \n",
    "            # Записываем в список значение расстояния и ответа на объекте обучающей выборки\n",
    "            test_distances.append((distance, y_train[i]))\n",
    "        \n",
    "        # создаем словарь со всеми возможными классами\n",
    "        classes = {class_item: 0 for class_item in set(y_train)}\n",
    "        \n",
    "        # Сортируем список и среди первых k элементов подсчитаем частоту появления разных классов\n",
    "        for d in sorted(test_distances)[0:k]:\n",
    "            classes[d[1]] += 1\n",
    "        \n",
    "        #print(classes)\n",
    "        \n",
    "        # Записываем в список ответов наиболее часто встречающийся класс\n",
    "        answers.append(sorted(classes, key=classes.get)[-1])\n",
    "        if not j % 100:\n",
    "            print(f\"Строка: {j}\")\n",
    "        j += 1\n",
    "    return answers"
   ]
  },
  {
   "cell_type": "code",
   "execution_count": 40,
   "metadata": {},
   "outputs": [],
   "source": [
    "def accuracy(pred, y):\n",
    "    return (sum(pred == y) / len(y))"
   ]
  },
  {
   "cell_type": "code",
   "execution_count": 41,
   "metadata": {},
   "outputs": [],
   "source": [
    "# X_train_std_crop, X_test_std_crop, y_train, y_test = train_test_split(X_std_crop, y, test_size=0.2, random_state=1)\n",
    "\n",
    "# k = 6\n",
    "\n",
    "# for k_i in range(1, k+1):\n",
    "#     y_pred = knn(X_train_std_crop, y_train, X_test_std_crop, k_i)\n",
    "#     print(f'Точность алгоритма при k = {k_i}: {accuracy(y_pred, y_test):.3f}')"
   ]
  },
  {
   "cell_type": "markdown",
   "metadata": {},
   "source": [
    "Точность алгоритма при k = 2: 0.793\n",
    "\n",
    "Точность алгоритма при k = 3: 0.883\n",
    "\n",
    "Точность алгоритма при k = 4: 0.865\n",
    "\n",
    "Точность алгоритма при k = 5: 0.899\n",
    "\n",
    "Точность алгоритма при k = 6: 0.890"
   ]
  },
  {
   "cell_type": "code",
   "execution_count": 42,
   "metadata": {},
   "outputs": [],
   "source": [
    "# X_train_std, X_test_std, y_train, y_test = train_test_split(X_std, y, test_size=0.2, random_state=1)\n",
    "\n",
    "# k = 7\n",
    "\n",
    "# for k_i in range(3, k+1):\n",
    "#     y_pred = knn(X_train_std, y_train, X_test_std, k_i)\n",
    "#     print(f'Точность алгоритма при k = {k_i}: {accuracy(y_pred, y_test):.3f}')"
   ]
  },
  {
   "cell_type": "markdown",
   "metadata": {},
   "source": [
    "Точность алгоритма при k = 3: 0.880\n",
    "\n",
    "Точность алгоритма при k = 4: 0.869\n",
    "\n",
    "Точность алгоритма при k = 5: 0.894\n",
    "\n",
    "Точность алгоритма при k = 6: 0.885\n",
    "\n",
    "Точность алгоритма при k = 7: 0.896"
   ]
  },
  {
   "cell_type": "code",
   "execution_count": 43,
   "metadata": {},
   "outputs": [],
   "source": [
    "# pred = knn(X_std_crop, y, test_X_std_crop, 5)"
   ]
  },
  {
   "cell_type": "code",
   "execution_count": 44,
   "metadata": {},
   "outputs": [],
   "source": [
    "# res = test[['Id']].copy()\n",
    "# res = pd.concat([res, pd.DataFrame(pred, columns=['choose'])], axis=1)\n",
    "# res"
   ]
  },
  {
   "cell_type": "code",
   "execution_count": 45,
   "metadata": {},
   "outputs": [],
   "source": [
    "# res.to_csv(\"viv_class_02.csv\", sep=\",\", index=False)"
   ]
  },
  {
   "cell_type": "markdown",
   "metadata": {},
   "source": [
    "## DecisionTree"
   ]
  },
  {
   "cell_type": "code",
   "execution_count": 46,
   "metadata": {},
   "outputs": [],
   "source": [
    "class Node:\n",
    "    # Класс узла\n",
    "    \n",
    "    def __init__(self, index, t, true_branch, false_branch):\n",
    "        self.index = index  # индекс признака, по которому ведется сравнение с порогом в этом узле\n",
    "        self.t = t  # значение порога\n",
    "        self.true_branch = true_branch  # поддерево, удовлетворяющее условию в узле\n",
    "        self.false_branch = false_branch  # поддерево, не удовлетворяющее условию в узле"
   ]
  },
  {
   "cell_type": "code",
   "execution_count": 47,
   "metadata": {},
   "outputs": [],
   "source": [
    "class Leaf:\n",
    "    # Класс терминального узла (листа)\n",
    "    \n",
    "    def __init__(self, data, labels):\n",
    "        self.data = data\n",
    "        self.labels = labels\n",
    "        self.prediction = self.predict()\n",
    "        \n",
    "    def predict(self):\n",
    "        # подсчет количества объектов разных классов\n",
    "        classes = {}  # сформируем словарь \"класс: количество объектов\"\n",
    "        for label in self.labels:\n",
    "            if label not in classes:\n",
    "                classes[label] = 0\n",
    "            classes[label] += 1\n",
    "        #  найдем класс, количество объектов которого будет максимальным в этом листе и вернем его    \n",
    "        prediction = max(classes, key=classes.get)\n",
    "        return prediction"
   ]
  },
  {
   "cell_type": "code",
   "execution_count": 48,
   "metadata": {},
   "outputs": [],
   "source": [
    "def gini(labels):\n",
    "    # Расчет критерия Джини\n",
    "\n",
    "    #  подсчет количества объектов разных классов\n",
    "    classes = {}\n",
    "    for label in labels:\n",
    "        if label not in classes:\n",
    "            classes[label] = 0\n",
    "        classes[label] += 1\n",
    "    \n",
    "    #  расчет критерия\n",
    "    impurity = 1\n",
    "    for label in classes:\n",
    "        p = classes[label] / len(labels)\n",
    "        impurity -= p ** 2\n",
    "        \n",
    "    return impurity"
   ]
  },
  {
   "cell_type": "code",
   "execution_count": 49,
   "metadata": {},
   "outputs": [],
   "source": [
    "def quality(left_labels, right_labels, current_gini):\n",
    "    # Расчет качества\n",
    "\n",
    "    # доля выбоки, ушедшая в левое поддерево\n",
    "    p = float(left_labels.shape[0]) / (left_labels.shape[0] + right_labels.shape[0])\n",
    "    \n",
    "    return current_gini - p * gini(left_labels) - (1 - p) * gini(right_labels)"
   ]
  },
  {
   "cell_type": "code",
   "execution_count": 50,
   "metadata": {},
   "outputs": [],
   "source": [
    "def split(data, labels, index, t):\n",
    "    # Разбиение датасета в узле\n",
    "    \n",
    "    left = np.where(data[:, index] <= t)\n",
    "    right = np.where(data[:, index] > t)\n",
    "        \n",
    "    true_data = data[left]\n",
    "    false_data = data[right]\n",
    "    true_labels = labels[left]\n",
    "    false_labels = labels[right]\n",
    "        \n",
    "    return true_data, false_data, true_labels, false_labels"
   ]
  },
  {
   "cell_type": "code",
   "execution_count": 51,
   "metadata": {},
   "outputs": [],
   "source": [
    "def find_best_split(data, labels):\n",
    "    # Нахождение наилучшего разбиения\n",
    "\n",
    "    #  обозначим минимальное количество объектов в узле\n",
    "    min_leaf = 5\n",
    "\n",
    "    current_gini = gini(labels)\n",
    "\n",
    "    best_quality = 0\n",
    "    best_t = None\n",
    "    best_index = None\n",
    "    \n",
    "    n_features = data.shape[1]\n",
    "    \n",
    "    for index in range(n_features):\n",
    "        # будем проверять только уникальные значения признака, исключая повторения\n",
    "        t_values = np.unique([row[index] for row in data])\n",
    "        \n",
    "        for t in t_values:\n",
    "            true_data, false_data, true_labels, false_labels = split(data, labels, index, t)\n",
    "            #  пропускаем разбиения, в которых в узле остается менее 5 объектов\n",
    "            if len(true_data) < min_leaf or len(false_data) < min_leaf:\n",
    "                continue\n",
    "            \n",
    "            current_quality = quality(true_labels, false_labels, current_gini)\n",
    "            \n",
    "            #  выбираем порог, на котором получается максимальный прирост качества\n",
    "            if current_quality > best_quality:\n",
    "                best_quality, best_t, best_index = current_quality, t, index\n",
    "\n",
    "    return best_quality, best_t, best_index"
   ]
  },
  {
   "cell_type": "code",
   "execution_count": 52,
   "metadata": {},
   "outputs": [],
   "source": [
    "def build_tree(data, labels):\n",
    "    # Построение дерева с помощью рекурсивной функции\n",
    "\n",
    "    quality, t, index = find_best_split(data, labels)\n",
    "\n",
    "    #  Базовый случай - прекращаем рекурсию, когда нет прироста в качества\n",
    "    if quality == 0:\n",
    "        return Leaf(data, labels)\n",
    "\n",
    "    true_data, false_data, true_labels, false_labels = split(data, labels, index, t)\n",
    "\n",
    "    # Рекурсивно строим два поддерева\n",
    "    true_branch = build_tree(true_data, true_labels)\n",
    "    false_branch = build_tree(false_data, false_labels)\n",
    "\n",
    "    # Возвращаем класс узла со всеми поддеревьями, то есть целого дерева\n",
    "    return Node(index, t, true_branch, false_branch)"
   ]
  },
  {
   "cell_type": "code",
   "execution_count": 53,
   "metadata": {},
   "outputs": [],
   "source": [
    "def classify_object(obj, node):\n",
    "\n",
    "    #  Останавливаем рекурсию, если достигли листа\n",
    "    if isinstance(node, Leaf):\n",
    "        answer = node.prediction\n",
    "        return answer\n",
    "\n",
    "    if obj[node.index] <= node.t:\n",
    "        return classify_object(obj, node.true_branch)\n",
    "    else:\n",
    "        return classify_object(obj, node.false_branch)"
   ]
  },
  {
   "cell_type": "code",
   "execution_count": 54,
   "metadata": {},
   "outputs": [],
   "source": [
    "def predict(data, tree):\n",
    "    \n",
    "    classes = []\n",
    "    for obj in data:\n",
    "        prediction = classify_object(obj, tree)\n",
    "        classes.append(prediction)\n",
    "    return classes"
   ]
  },
  {
   "cell_type": "code",
   "execution_count": 55,
   "metadata": {},
   "outputs": [],
   "source": [
    "def accuracy_metric(actual, predicted):\n",
    "    # Введем функцию подсчета точности как доли правильных ответов\n",
    "\n",
    "    correct = 0\n",
    "    for i in range(len(actual)):\n",
    "        if actual[i] == predicted[i]:\n",
    "            correct += 1\n",
    "    return correct / float(len(actual)) * 100.0"
   ]
  },
  {
   "cell_type": "code",
   "execution_count": 56,
   "metadata": {},
   "outputs": [],
   "source": [
    "def print_tree(node, spacing=\"\"):\n",
    "    # Напечатаем ход нашего дерева\n",
    "\n",
    "    # Если лист, то выводим его прогноз\n",
    "    if isinstance(node, Leaf):\n",
    "        print(spacing + \"Прогноз:\", node.prediction)\n",
    "        return\n",
    "\n",
    "    # Выведем значение индекса и порога на этом узле\n",
    "    print(spacing + 'Индекс', str(node.index))\n",
    "    print(spacing + 'Порог', str(node.t))\n",
    "\n",
    "    # Рекурсионный вызов функции на положительном поддереве\n",
    "    print (spacing + '--> True:')\n",
    "    print_tree(node.true_branch, spacing + \"  \")\n",
    "\n",
    "    # Рекурсионный вызов функции на положительном поддереве\n",
    "    print (spacing + '--> False:')\n",
    "    print_tree(node.false_branch, spacing + \"  \")"
   ]
  },
  {
   "cell_type": "code",
   "execution_count": 57,
   "metadata": {},
   "outputs": [],
   "source": [
    "# X_train, X_test, y_train, y_test = train_test_split(X, y, test_size=0.2, random_state=1)"
   ]
  },
  {
   "cell_type": "code",
   "execution_count": 58,
   "metadata": {},
   "outputs": [],
   "source": [
    "# my_tree_dl = build_tree(X_train, y_train)\n",
    "# train_answers = predict(X_train, my_tree_dl)\n",
    "# answers = predict(X_test, my_tree_dl)\n",
    "# train_accuracy = accuracy_metric(y_train, train_answers)\n",
    "# test_accuracy = accuracy_metric(y_test, answers)\n",
    "# print_tree(my_tree_dl, spacing=\"\")\n",
    "# print(\"train_accuracy: {:.4f}\\ttest_accuracy: {:.4f}\".format(train_accuracy, test_accuracy))"
   ]
  },
  {
   "cell_type": "code",
   "execution_count": 59,
   "metadata": {},
   "outputs": [],
   "source": [
    "# res_tree_dl = build_tree(X, y)"
   ]
  },
  {
   "cell_type": "code",
   "execution_count": 60,
   "metadata": {},
   "outputs": [],
   "source": [
    "# prediction = predict(test_X, res_tree_dl)"
   ]
  },
  {
   "cell_type": "code",
   "execution_count": 61,
   "metadata": {},
   "outputs": [],
   "source": [
    "# res = test[['Id']].copy()\n",
    "# res = pd.concat([res, pd.DataFrame(prediction, columns=['choose'])], axis=1)\n",
    "# res"
   ]
  },
  {
   "cell_type": "code",
   "execution_count": 62,
   "metadata": {},
   "outputs": [],
   "source": [
    "# res.to_csv(\"viv_class_14.csv\", sep=\",\", index=False)"
   ]
  },
  {
   "cell_type": "code",
   "execution_count": 63,
   "metadata": {},
   "outputs": [],
   "source": [
    "# X_crop = X.copy()\n",
    "# X_crop = np.delete(X, [4, 5, 6, 7, 8, 9], axis=1)\n",
    "# X_crop"
   ]
  },
  {
   "cell_type": "code",
   "execution_count": 64,
   "metadata": {},
   "outputs": [],
   "source": [
    "# test_X_crop = test_X.copy()\n",
    "# test_X_crop = np.delete(test_X, [4, 5, 6, 7, 8, 9], axis=1)\n",
    "# test_X_crop"
   ]
  },
  {
   "cell_type": "code",
   "execution_count": 65,
   "metadata": {},
   "outputs": [],
   "source": [
    "# res_tree_dl = build_tree(X_crop, y)"
   ]
  },
  {
   "cell_type": "code",
   "execution_count": 66,
   "metadata": {},
   "outputs": [],
   "source": [
    "# prediction = predict(test_X_crop, res_tree_dl)"
   ]
  },
  {
   "cell_type": "code",
   "execution_count": 67,
   "metadata": {},
   "outputs": [],
   "source": [
    "# res = test[['Id']].copy()\n",
    "# res = pd.concat([res, pd.DataFrame(prediction, columns=['choose'])], axis=1)\n",
    "# res"
   ]
  },
  {
   "cell_type": "code",
   "execution_count": 68,
   "metadata": {},
   "outputs": [],
   "source": [
    "# res.to_csv(\"viv_class_12.csv\", sep=\",\", index=False)"
   ]
  },
  {
   "cell_type": "code",
   "execution_count": 69,
   "metadata": {},
   "outputs": [],
   "source": [
    "def calc_entropy(labels):\n",
    "    #  подсчет количества объектов разных классов    \n",
    "    classes = {}\n",
    "    for label in labels:\n",
    "        if label not in classes:\n",
    "            classes[label] = 0\n",
    "        classes[label] += 1\n",
    "    \n",
    "    #  расчет критерия\n",
    "    entropy = 0\n",
    "    for label in classes:\n",
    "        p = classes[label] / len(labels)\n",
    "        if p != 0:\n",
    "            entropy += p * np.log2(p)\n",
    "        \n",
    "    return entropy * (-1)"
   ]
  },
  {
   "cell_type": "code",
   "execution_count": 70,
   "metadata": {},
   "outputs": [],
   "source": [
    "def quality_e(left_labels, right_labels, current_entropy):\n",
    "\n",
    "    # доля выбоки, ушедшая в левое поддерево\n",
    "    p = float(left_labels.shape[0]) / (left_labels.shape[0] + right_labels.shape[0])\n",
    "    \n",
    "    return current_entropy - p * calc_entropy(left_labels) - (1 - p) * calc_entropy(right_labels)"
   ]
  },
  {
   "cell_type": "code",
   "execution_count": 71,
   "metadata": {},
   "outputs": [],
   "source": [
    "def find_best_split_e(data, labels):\n",
    "    \n",
    "    #  обозначим минимальное количество объектов в узле\n",
    "    min_leaf = 5\n",
    "\n",
    "    current_entropy = calc_entropy(labels)\n",
    "\n",
    "    best_quality = 0\n",
    "    best_t = None\n",
    "    best_index = None\n",
    "    \n",
    "    n_features = data.shape[1]\n",
    "    \n",
    "    for index in range(n_features):\n",
    "        # будем проверять только уникальные значения признака, исключая повторения\n",
    "        t_values = np.unique([row[index] for row in data])\n",
    "        \n",
    "        for t in t_values:\n",
    "            true_data, false_data, true_labels, false_labels = split(data, labels, index, t)\n",
    "            #  пропускаем разбиения, в которых в узле остается менее 5 объектов\n",
    "            if len(true_data) < min_leaf or len(false_data) < min_leaf:\n",
    "                continue\n",
    "            \n",
    "            current_quality = quality_e(true_labels, false_labels, current_entropy)\n",
    "            \n",
    "            #  выбираем порог, на котором получается максимальный прирост качества\n",
    "            if current_quality > best_quality:\n",
    "                best_quality, best_t, best_index = current_quality, t, index\n",
    "\n",
    "    return best_quality, best_t, best_index"
   ]
  },
  {
   "cell_type": "code",
   "execution_count": 72,
   "metadata": {},
   "outputs": [],
   "source": [
    "def build_tree_e(data, labels):\n",
    "\n",
    "    quality, t, index = find_best_split_e(data, labels)\n",
    "\n",
    "    #  Базовый случай - прекращаем рекурсию, когда нет прироста в качества\n",
    "    if quality == 0:\n",
    "        return Leaf(data, labels)\n",
    "\n",
    "    true_data, false_data, true_labels, false_labels = split(data, labels, index, t)\n",
    "\n",
    "    # Рекурсивно строим два поддерева\n",
    "    true_branch = build_tree_e(true_data, true_labels)\n",
    "    false_branch = build_tree_e(false_data, false_labels)\n",
    "\n",
    "    # Возвращаем класс узла со всеми поддеревьями, то есть целого дерева\n",
    "    return Node(index, t, true_branch, false_branch)"
   ]
  },
  {
   "cell_type": "code",
   "execution_count": 73,
   "metadata": {},
   "outputs": [],
   "source": [
    "# my_tree_e = build_tree_e(X_train, y_train)\n",
    "# train_answers = predict(X_train, my_tree_e)\n",
    "# answers = predict(X_test, my_tree_e)\n",
    "# train_accuracy = accuracy_metric(y_train, train_answers)\n",
    "# test_accuracy = accuracy_metric(y_test, answers)\n",
    "# print_tree(my_tree_e, spacing=\"\")\n",
    "# print(\"train_accuracy: {:.4f}\\ttest_accuracy: {:.4f}\".format(train_accuracy, test_accuracy))"
   ]
  },
  {
   "cell_type": "code",
   "execution_count": 74,
   "metadata": {},
   "outputs": [],
   "source": [
    "# res_tree_e = build_tree(X, y)"
   ]
  },
  {
   "cell_type": "code",
   "execution_count": 75,
   "metadata": {},
   "outputs": [],
   "source": [
    "# prediction = predict(test_X, res_tree_e)"
   ]
  },
  {
   "cell_type": "code",
   "execution_count": 76,
   "metadata": {},
   "outputs": [],
   "source": [
    "# res = test[['Id']].copy()\n",
    "# res = pd.concat([res, pd.DataFrame(prediction, columns=['choose'])], axis=1)\n",
    "# res"
   ]
  },
  {
   "cell_type": "code",
   "execution_count": 77,
   "metadata": {},
   "outputs": [],
   "source": [
    "# res.to_csv(\"viv_class_15.csv\", sep=\",\", index=False)"
   ]
  },
  {
   "cell_type": "code",
   "execution_count": 78,
   "metadata": {},
   "outputs": [],
   "source": [
    "def build_tree_ln(data, labels, l_num):\n",
    "    # Построение дерева с помощью рекурсивной функции\n",
    "\n",
    "    quality, t, index = find_best_split_ln(data, labels, l_num)\n",
    "\n",
    "    #  Базовый случай - прекращаем рекурсию, когда нет прироста в качества\n",
    "    if quality == 0:\n",
    "        return Leaf(data, labels)\n",
    "\n",
    "    true_data, false_data, true_labels, false_labels = split(data, labels, index, t)\n",
    "\n",
    "    # Рекурсивно строим два поддерева\n",
    "    true_branch = build_tree(true_data, true_labels)\n",
    "    false_branch = build_tree(false_data, false_labels)\n",
    "\n",
    "    # Возвращаем класс узла со всеми поддеревьями, то есть целого дерева\n",
    "    return Node(index, t, true_branch, false_branch)"
   ]
  },
  {
   "cell_type": "code",
   "execution_count": 79,
   "metadata": {},
   "outputs": [],
   "source": [
    "def find_best_split_ln(data, labels, l_num):\n",
    "    # Нахождение наилучшего разбиения\n",
    "\n",
    "    #  обозначим минимальное количество объектов в узле\n",
    "    min_leaf = l_num\n",
    "\n",
    "    current_gini = gini(labels)\n",
    "\n",
    "    best_quality = 0\n",
    "    best_t = None\n",
    "    best_index = None\n",
    "    \n",
    "    n_features = data.shape[1]\n",
    "    \n",
    "    for index in range(n_features):\n",
    "        # будем проверять только уникальные значения признака, исключая повторения\n",
    "        t_values = np.unique([row[index] for row in data])\n",
    "        \n",
    "        for t in t_values:\n",
    "            true_data, false_data, true_labels, false_labels = split(data, labels, index, t)\n",
    "            #  пропускаем разбиения, в которых в узле остается менее 5 объектов\n",
    "            if len(true_data) < min_leaf or len(false_data) < min_leaf:\n",
    "                continue\n",
    "            \n",
    "            current_quality = quality(true_labels, false_labels, current_gini)\n",
    "            \n",
    "            #  выбираем порог, на котором получается максимальный прирост качества\n",
    "            if current_quality > best_quality:\n",
    "                best_quality, best_t, best_index = current_quality, t, index\n",
    "\n",
    "    return best_quality, best_t, best_index"
   ]
  },
  {
   "cell_type": "code",
   "execution_count": null,
   "metadata": {},
   "outputs": [],
   "source": [
    "for l in range(3, 13, 2):\n",
    "    my_tree_ln = build_tree_ln(X_train, y_train, l)\n",
    "    train_answers = predict(X_train, my_tree_ln)\n",
    "    answers = predict(X_test, my_tree_ln)\n",
    "    train_accuracy = accuracy_metric(y_train, train_answers)\n",
    "    test_accuracy = accuracy_metric(y_test, answers)\n",
    "    print(\"Листьев: {} train_accuracy: {:.4f}\\ttest_accuracy: {:.4f}\".format(l, train_accuracy, test_accuracy))"
   ]
  },
  {
   "cell_type": "markdown",
   "metadata": {},
   "source": [
    "# Logistic Regression"
   ]
  },
  {
   "cell_type": "code",
   "execution_count": 81,
   "metadata": {},
   "outputs": [
    {
     "data": {
      "text/plain": [
       "array([[ 1.        , -1.34508978, -1.11773006,  0.85450883,  0.34514053,\n",
       "         0.7035867 ],\n",
       "       [ 1.        ,  0.77200475,  0.01426311, -0.86382602,  0.34514053,\n",
       "        -0.54693332],\n",
       "       [ 1.        , -2.09229961,  0.5802597 ,  0.09080445, -0.90672937,\n",
       "         0.11510669],\n",
       "       ...,\n",
       "       [ 1.        , -0.22427503,  1.71225287,  0.09080445, -0.90672937,\n",
       "        -0.39981332],\n",
       "       [ 1.        , -0.59787995, -1.11773006, -0.0046586 ,  0.34514053,\n",
       "         0.5564667 ],\n",
       "       [ 1.        , -0.59787995,  1.71225287, -0.95928907, -0.90672937,\n",
       "        -1.79745335]])"
      ]
     },
     "execution_count": 81,
     "metadata": {},
     "output_type": "execute_result"
    }
   ],
   "source": [
    "X_std_crop_wo = np.hstack((np.ones((y.shape[0], 1)), X_std_crop))\n",
    "X_std_crop_wo"
   ]
  },
  {
   "cell_type": "code",
   "execution_count": 82,
   "metadata": {},
   "outputs": [],
   "source": [
    "X_train, X_test, y_train, y_test = train_test_split(X_std_crop_wo, y, test_size=0.2, random_state=1)"
   ]
  },
  {
   "cell_type": "code",
   "execution_count": 83,
   "metadata": {},
   "outputs": [
    {
     "data": {
      "text/plain": [
       "array([[ 1.        ,  1.        ,  1.        , ...,  1.        ,\n",
       "         1.        ,  1.        ],\n",
       "       [ 0.77200475, -0.59787995,  2.26642441, ...,  0.39839983,\n",
       "        -0.22427503, -0.59787995],\n",
       "       [ 1.71225287, -0.55173347, -1.11773006, ..., -0.55173347,\n",
       "         1.14625629, -1.11773006],\n",
       "       [ 1.14089797,  0.09080445, -1.05475212, ..., -0.57743688,\n",
       "         2.0000654 , -0.48197383],\n",
       "       [ 1.59701043,  0.34514053, -0.90672937, ..., -0.90672937,\n",
       "         1.59701043, -0.90672937],\n",
       "       [ 1.65986673,  0.4829067 , -0.39981332, ..., -1.20897334,\n",
       "         1.80698673,  0.4093467 ]])"
      ]
     },
     "execution_count": 83,
     "metadata": {},
     "output_type": "execute_result"
    }
   ],
   "source": [
    "X_train = X_train.T\n",
    "X_train"
   ]
  },
  {
   "cell_type": "code",
   "execution_count": 84,
   "metadata": {},
   "outputs": [
    {
     "data": {
      "text/plain": [
       "array([1, 0, 0, ..., 0, 0, 0])"
      ]
     },
     "execution_count": 84,
     "metadata": {},
     "output_type": "execute_result"
    }
   ],
   "source": [
    "y_train"
   ]
  },
  {
   "cell_type": "code",
   "execution_count": 85,
   "metadata": {},
   "outputs": [
    {
     "data": {
      "text/plain": [
       "array([[ 1.        ,  1.        ,  1.        , ...,  1.        ,\n",
       "         1.        ,  1.        ],\n",
       "       [ 1.51921458, -0.22427503,  0.77200475, ...,  0.02479491,\n",
       "        -0.47334498,  1.76828452],\n",
       "       [ 0.5802597 ,  1.14625629,  1.14625629, ...,  0.5802597 ,\n",
       "        -0.55173347,  0.01426311],\n",
       "       [ 0.85450883,  2.76376978, -0.95928907, ..., -0.38651079,\n",
       "        -0.95928907, -0.48197383],\n",
       "       [ 0.34514053,  1.59701043, -0.90672937, ...,  0.34514053,\n",
       "        -0.90672937, -0.90672937],\n",
       "       [ 0.92426671,  2.32190674,  0.18866669, ..., -0.54693332,\n",
       "        -0.47337332, -0.17913332]])"
      ]
     },
     "execution_count": 85,
     "metadata": {},
     "output_type": "execute_result"
    }
   ],
   "source": [
    "X_test = X_test.T\n",
    "X_test"
   ]
  },
  {
   "cell_type": "code",
   "execution_count": 86,
   "metadata": {},
   "outputs": [],
   "source": [
    "def sigmoid(z):\n",
    "    res = 1 / (1 + np.exp(-z))\n",
    "    return res"
   ]
  },
  {
   "cell_type": "code",
   "execution_count": 87,
   "metadata": {},
   "outputs": [],
   "source": [
    "def log_loss(w, X, y):\n",
    "    m = X.shape[1]\n",
    "\n",
    "    # используем функцию сигмоиды, написанную ранее\n",
    "    A = sigmoid(np.dot(w.T, X))\n",
    "    \n",
    "    loss = -1.0 / m * np.sum(y * np.log(A) + (1 - y) * np.log(1 - A))\n",
    "    loss = np.squeeze(loss)\n",
    "    grad = 1.0 / m * np.dot(X, (A - y).T)\n",
    "    \n",
    "    return loss, grad"
   ]
  },
  {
   "cell_type": "code",
   "execution_count": 88,
   "metadata": {},
   "outputs": [],
   "source": [
    "def optimize(w, X, y, n_iterations, eta):\n",
    "#     потери будем записывать в список для отображения в виде графика\n",
    "    losses = []\n",
    "    \n",
    "    for i in range(n_iterations):        \n",
    "        loss, grad = log_loss(w, X, y)\n",
    "        w = w - eta * grad\n",
    "\n",
    "        losses.append(loss)\n",
    "        \n",
    "    return w, losses"
   ]
  },
  {
   "cell_type": "code",
   "execution_count": 89,
   "metadata": {},
   "outputs": [],
   "source": [
    "def predict(w, X):\n",
    "    \n",
    "    m = X.shape[1]\n",
    "    \n",
    "    y_predicted = np.zeros((1, m))\n",
    "    w = w.reshape(X.shape[0], 1)\n",
    "    \n",
    "    A = sigmoid(np.dot(w.T, X))\n",
    "    \n",
    "#     За порог отнесения к тому или иному классу примем вероятность 0.5\n",
    "    for i in range(A.shape[1]):\n",
    "        if (A[:,i] > 0.5): \n",
    "            y_predicted[:, i] = 1\n",
    "        elif (A[:,i] <= 0.5):\n",
    "            y_predicted[:, i] = 0\n",
    "    \n",
    "    return y_predicted"
   ]
  },
  {
   "cell_type": "code",
   "execution_count": 90,
   "metadata": {},
   "outputs": [
    {
     "name": "stdout",
     "output_type": "stream",
     "text": [
      "Итоговый вектор весов w: [[-2.218788  ]\n",
      " [ 0.02791373]\n",
      " [ 0.06204416]\n",
      " [-1.32068191]\n",
      " [ 0.43502904]\n",
      " [ 0.92002191]]\n",
      "Точность на обучающей выборке: 88.750\n",
      "Точность на тестовой выборке: 90.800\n"
     ]
    }
   ],
   "source": [
    "w0 = np.zeros((X_train.shape[0], 1))\n",
    "\n",
    "n_iterations = 1000\n",
    "eta = 0.05\n",
    "\n",
    "w, losses = optimize(w0, X_train, y_train, n_iterations, eta)\n",
    "\n",
    "y_predicted_test = predict(w, X_test)\n",
    "y_predicted_train = predict(w, X_train)\n",
    "\n",
    "# В качестве меры точности возьмем долю правильных ответов\n",
    "train_accuracy = 100.0 - np.mean(np.abs(y_predicted_train - y_train)*100.0)\n",
    "test_accuracy = 100.0 - np.mean(np.abs(y_predicted_test - y_test)*100.0)\n",
    "\n",
    "print(f\"Итоговый вектор весов w: {w}\")\n",
    "print(f\"Точность на обучающей выборке: {train_accuracy:.3f}\")\n",
    "print(f\"Точность на тестовой выборке: {test_accuracy:.3f}\")"
   ]
  },
  {
   "cell_type": "code",
   "execution_count": 91,
   "metadata": {},
   "outputs": [
    {
     "data": {
      "image/png": "[encoded data removed]",
      "text/plain": [
       "<Figure size 432x288 with 1 Axes>"
      ]
     },
     "metadata": {
      "needs_background": "light"
     },
     "output_type": "display_data"
    }
   ],
   "source": [
    "plt.title('Log loss')\n",
    "plt.xlabel('iterations')\n",
    "plt.ylabel('loss')\n",
    "plt.plot(range(len(losses)), losses)\n",
    "plt.show()"
   ]
  },
  {
   "cell_type": "code",
   "execution_count": 92,
   "metadata": {},
   "outputs": [
    {
     "data": {
      "text/plain": [
       "array([[-1.73371969,  0.00807395,  1.90046712,  1.64348174,  1.90506341],\n",
       "       [-1.36019396,  2.26652127,  0.19020064,  0.37702436,  0.50485588],\n",
       "       [-0.23961676,  0.00807395, -0.94997702, -0.88943302, -1.41121759],\n",
       "       ...,\n",
       "       [-0.23961676,  0.00807395, -0.85496222, -0.88943302, -0.08470519],\n",
       "       [ 0.63194329,  1.70190944, -1.33003624,  0.37702436, -0.01101005],\n",
       "       [-0.36412533, -1.12114971, -0.37988819, -0.88943302, -1.70599812]])"
      ]
     },
     "execution_count": 92,
     "metadata": {},
     "output_type": "execute_result"
    }
   ],
   "source": [
    "test_X_std_crop"
   ]
  },
  {
   "cell_type": "code",
   "execution_count": 93,
   "metadata": {},
   "outputs": [
    {
     "data": {
      "text/plain": [
       "array([[ 1.        ,  1.        ,  1.        , ...,  1.        ,\n",
       "         1.        ,  1.        ],\n",
       "       [-1.73371969, -1.36019396, -0.23961676, ..., -0.23961676,\n",
       "         0.63194329, -0.36412533],\n",
       "       [ 0.00807395,  2.26652127,  0.00807395, ...,  0.00807395,\n",
       "         1.70190944, -1.12114971],\n",
       "       [ 1.90046712,  0.19020064, -0.94997702, ..., -0.85496222,\n",
       "        -1.33003624, -0.37988819],\n",
       "       [ 1.64348174,  0.37702436, -0.88943302, ..., -0.88943302,\n",
       "         0.37702436, -0.88943302],\n",
       "       [ 1.90506341,  0.50485588, -1.41121759, ..., -0.08470519,\n",
       "        -0.01101005, -1.70599812]])"
      ]
     },
     "execution_count": 93,
     "metadata": {},
     "output_type": "execute_result"
    }
   ],
   "source": [
    "test_X_std_crop_wo = np.hstack((np.ones((test_X_std_crop.shape[0], 1)), test_X_std_crop))\n",
    "test_X_std_crop_wo = test_X_std_crop_wo.T\n",
    "test_X_std_crop_wo"
   ]
  },
  {
   "cell_type": "code",
   "execution_count": 94,
   "metadata": {},
   "outputs": [
    {
     "name": "stdout",
     "output_type": "stream",
     "text": [
      "Итоговый вектор весов w: [[-2.24676644]\n",
      " [ 0.04043953]\n",
      " [ 0.06287427]\n",
      " [-1.28565325]\n",
      " [ 0.41649156]\n",
      " [ 0.89921982]]\n",
      "Точность на обучающей выборке: 89.120\n"
     ]
    }
   ],
   "source": [
    "X_std_crop_wo = X_std_crop_wo.T\n",
    "w0 = np.zeros((X_std_crop_wo.shape[0], 1))\n",
    "\n",
    "n_iterations = 1000\n",
    "eta = 0.05\n",
    "\n",
    "w, losses = optimize(w0, X_std_crop_wo, y, n_iterations, eta)\n",
    "\n",
    "y_predicted_train = predict(w, X_std_crop_wo)\n",
    "\n",
    "# В качестве меры точности возьмем долю правильных ответов\n",
    "train_accuracy = 100.0 - np.mean(np.abs(y_predicted_train - y)*100.0)\n",
    "\n",
    "print(f\"Итоговый вектор весов w: {w}\")\n",
    "print(f\"Точность на обучающей выборке: {train_accuracy:.3f}\")"
   ]
  },
  {
   "cell_type": "code",
   "execution_count": 95,
   "metadata": {},
   "outputs": [],
   "source": [
    "# prediction = predict(w, test_X_std_crop_wo)\n",
    "# a = np.array(prediction[0], dtype=int)\n",
    "# a"
   ]
  },
  {
   "cell_type": "code",
   "execution_count": 96,
   "metadata": {},
   "outputs": [],
   "source": [
    "# res = test[['Id']].copy()\n",
    "# res = pd.concat([res, pd.DataFrame(a, columns=['choose'])], axis=1)\n",
    "# res"
   ]
  },
  {
   "cell_type": "code",
   "execution_count": 97,
   "metadata": {},
   "outputs": [],
   "source": [
    "# res.to_csv(\"viv_class_08.csv\", sep=\",\", index=False)"
   ]
  },
  {
   "cell_type": "markdown",
   "metadata": {},
   "source": [
    "# XGBoost"
   ]
  },
  {
   "cell_type": "code",
   "execution_count": 98,
   "metadata": {},
   "outputs": [],
   "source": [
    "def bias(y, z):\n",
    "    return y/(1 + np.exp(-1*y*z))"
   ]
  },
  {
   "cell_type": "code",
   "execution_count": 99,
   "metadata": {},
   "outputs": [],
   "source": [
    "def gb_predict_m(X, trees_list, coef_list, eta):\n",
    "    # Реализуемый алгоритм градиентного бустинга будет инициализироваться нулевыми значениями,\n",
    "    # поэтому все деревья из списка trees_list уже являются дополнительными и при предсказании прибавляются с шагом eta\n",
    "    return np.array([sum([eta * coef * pred_item(x, tree) for tree, coef in zip(trees_list, coef_list)]) for x in X])"
   ]
  },
  {
   "cell_type": "code",
   "execution_count": 100,
   "metadata": {},
   "outputs": [],
   "source": [
    "def gb_fit_cl(n_trees, max_depth, X_train, X_test, y_train, y_test, coefs, eta):\n",
    "    \n",
    "    # Деревья будем записывать в список\n",
    "    trees = []\n",
    "    \n",
    "    # Будем записывать ошибки на обучающей и тестовой выборке на каждой итерации в список\n",
    "    train_errors = []\n",
    "    test_errors = []\n",
    "    \n",
    "    for i in range(n_trees):\n",
    "\n",
    "        # инициализируем бустинг начальным алгоритмом, возвращающим ноль, \n",
    "        # поэтому первый алгоритм просто обучаем на выборке и добавляем в список\n",
    "        if len(trees) == 0:\n",
    "            # обучаем первое дерево на обучающей выборке\n",
    "            tree = build_tree_depth_lim(X_train, y_train, max_depth)\n",
    "            \n",
    "            train_errors.append(accuracy_metric(y_train, gb_predict_m(X_train, trees, coefs, eta)))\n",
    "            test_errors.append(accuracy_metric(y_test, gb_predict_m(X_test, trees, coefs, eta)))\n",
    "        else:\n",
    "            # Получим ответы на текущей композиции\n",
    "            target = gb_predict_m(X_train, trees, coefs, eta)\n",
    "            \n",
    "            # алгоритмы начиная со второго обучаем на сдвиг\n",
    "            tree = build_tree_depth_lim(X_train, bias(y_train, target), max_depth)\n",
    "            \n",
    "            train_errors.append(accuracy_metric(y_train, gb_predict_m(X_train, trees, coefs, eta)))\n",
    "            test_errors.append(accuracy_metric(y_test, gb_predict_m(X_test, trees, coefs, eta)))\n",
    "\n",
    "        trees.append(tree)\n",
    "        \n",
    "    return trees, train_errors, test_errors"
   ]
  },
  {
   "cell_type": "code",
   "execution_count": 101,
   "metadata": {},
   "outputs": [],
   "source": [
    "def get_error_plot(n_trees, train_err, test_err):\n",
    "    plt.xlabel('Iteration number')\n",
    "    plt.ylabel('Accuracy')\n",
    "    plt.xlim(2, n_trees+1)\n",
    "    plt.plot(list(range(2, n_trees+1)), train_err[1:], label='train error')\n",
    "    plt.plot(list(range(2, n_trees+1)), test_err[1:], label='test error')\n",
    "    plt.legend(loc='upper right')\n",
    "    plt.show()"
   ]
  },
  {
   "cell_type": "code",
   "execution_count": 102,
   "metadata": {},
   "outputs": [],
   "source": [
    "def grid_ctr(n_trees_l, max_depth_l, eta_l, X, y):\n",
    "    X_train, X_test, y_train, y_test = train_test_split(X, y, test_size=0.25, random_state=42)\n",
    "    err_min = np.inf\n",
    "    for tr in n_trees_l:\n",
    "        for dp in max_depth_l:\n",
    "            for et in eta_l:\n",
    "                coefs = [1] * tr # для простоты примем коэффициенты равными 1\n",
    "                trees, train_errors, test_errors = gb_fit_cl(tr, dp, X_train, X_test, y_train, y_test, coefs, et)\n",
    "                train_prediction = gb_predict_m(X_train, trees, coefs, et)\n",
    "                print(f'Ошибка алгоритма из {tr} деревьев глубиной {dp} с шагом {et} на тренировочной выборке: {accuracy_metric(y_train, train_prediction)}')\n",
    "                test_prediction = gb_predict_m(X_test, trees, coefs, et)\n",
    "                err = accuracy_metric(y_test, test_prediction)\n",
    "                print(f'Ошибка алгоритма из {tr} деревьев глубиной {dp} с шагом {et} на тестовой выборке: {err}')\n",
    "                if err_min > err:\n",
    "                    tr_b = tr\n",
    "                    dp_b = dp\n",
    "                    et_b = et\n",
    "                    err_min = err\n",
    "                get_error_plot(tr, train_errors, test_errors)\n",
    "    print(f'Лучшие параметры: Ошибка алгоритма из {tr} деревьев глубиной {dp} с шагом {et} на тестовой выборке: {err_min}')\n",
    "    return tr_b, dp_b, et_b"
   ]
  },
  {
   "cell_type": "code",
   "execution_count": 103,
   "metadata": {},
   "outputs": [],
   "source": [
    "n_trees_l = [10, 30]\n",
    "max_depth_l = [3, 5]\n",
    "eta_l = [1, 0.1]\n",
    "\n",
    "# grid_ctr(n_trees_l, max_depth_l, eta_l, X, y)"
   ]
  },
  {
   "cell_type": "markdown",
   "metadata": {},
   "source": [
    "Ошибка алгоритма из 10 деревьев глубиной 3 с шагом 1 на тренировочной выборке: 89.09333333333333\n",
    "\n",
    "Ошибка алгоритма из 10 деревьев глубиной 3 с шагом 1 на тестовой выборке: 88.16000000000001\n",
    "\n",
    "Ошибка алгоритма из 10 деревьев глубиной 3 с шагом 0.1 на тренировочной выборке: 88.96\n",
    "\n",
    "Ошибка алгоритма из 10 деревьев глубиной 3 с шагом 0.1 на тестовой выборке: 88.03999999999999\n",
    "\n",
    "Ошибка алгоритма из 10 деревьев глубиной 5 с шагом 1 на тренировочной выборке: 89.14666666666666\n",
    "\n",
    "Ошибка алгоритма из 10 деревьев глубиной 5 с шагом 1 на тестовой выборке: 87.76\n",
    "\n",
    "Ошибка алгоритма из 10 деревьев глубиной 5 с шагом 0.1 на тренировочной выборке: 88.78666666666668\n",
    "\n",
    "Ошибка алгоритма из 10 деревьев глубиной 5 с шагом 0.1 на тестовой выборке: 87.36\n",
    "\n",
    "Ошибка алгоритма из 30 деревьев глубиной 3 с шагом 1 на тренировочной выборке: 89.09333333333333\n",
    "\n",
    "Ошибка алгоритма из 30 деревьев глубиной 3 с шагом 1 на тестовой выборке: 88.16000000000001"
   ]
  },
  {
   "cell_type": "code",
   "execution_count": 104,
   "metadata": {},
   "outputs": [],
   "source": [
    "def gb_fit_cl_fin(n_trees, max_depth, X, y, coefs, eta):\n",
    "    \n",
    "    # Деревья будем записывать в список\n",
    "    trees = []\n",
    "    \n",
    "    # Будем записывать ошибки\n",
    "    errors = []\n",
    "    \n",
    "    for i in range(n_trees):\n",
    "\n",
    "        # инициализируем бустинг начальным алгоритмом, возвращающим ноль, \n",
    "        # поэтому первый алгоритм просто обучаем на выборке и добавляем в список\n",
    "        if len(trees) == 0:\n",
    "            # обучаем первое дерево на обучающей выборке\n",
    "            tree = build_tree_depth_lim(X, y, max_depth)\n",
    "            \n",
    "            errors.append(accuracy_metric(y, gb_predict_m(X, trees, coefs, eta)))\n",
    "        else:\n",
    "            # Получим ответы на текущей композиции\n",
    "            target = gb_predict_m(X, trees, coefs, eta)\n",
    "            \n",
    "            # алгоритмы начиная со второго обучаем на сдвиг\n",
    "            tree = build_tree_depth_lim(X, bias(y, target), max_depth)\n",
    "            \n",
    "            errors.append(accuracy_metric(y, gb_predict_m(X, trees, coefs, eta)))\n",
    "\n",
    "        trees.append(tree)\n",
    "        \n",
    "    return trees, errors"
   ]
  },
  {
   "cell_type": "code",
   "execution_count": 105,
   "metadata": {},
   "outputs": [],
   "source": [
    "n_trees = 10\n",
    "max_depth = 3\n",
    "eta = 1\n",
    "coefs = [1] * n_trees # для простоты примем коэффициенты равными 1\n",
    "\n",
    "# trees, errors = gb_fit_cl_fin(n_trees, max_depth, X, y, coefs, eta)"
   ]
  },
  {
   "cell_type": "code",
   "execution_count": 106,
   "metadata": {},
   "outputs": [],
   "source": [
    "# prediction = gb_predict_m(test_X, trees, coefs, eta)\n",
    "# prediction"
   ]
  },
  {
   "cell_type": "code",
   "execution_count": 107,
   "metadata": {},
   "outputs": [],
   "source": [
    "# res = test[['Id']].copy()\n",
    "# res = pd.concat([res, pd.DataFrame(prediction, columns=['choose'])], axis=1)\n",
    "# res"
   ]
  },
  {
   "cell_type": "code",
   "execution_count": 108,
   "metadata": {},
   "outputs": [],
   "source": [
    "# res.to_csv(\"viv_class_04.csv\", sep=\",\", index=False)"
   ]
  },
  {
   "cell_type": "markdown",
   "metadata": {},
   "source": [
    "# Случайный лес"
   ]
  },
  {
   "cell_type": "code",
   "execution_count": 109,
   "metadata": {},
   "outputs": [],
   "source": [
    "np.random.seed(42)"
   ]
  },
  {
   "cell_type": "code",
   "execution_count": 110,
   "metadata": {},
   "outputs": [],
   "source": [
    "def get_bootstrap(data, labels, N):\n",
    "    \n",
    "    n_samples = data.shape[0]\n",
    "    bootstrap = []\n",
    "\n",
    "    for i in range(N):\n",
    "        b_data = np.zeros(data.shape)\n",
    "        b_labels = np.zeros(labels.shape)\n",
    "        \n",
    "        for j in range(n_samples):\n",
    "            sample_index = np.random.randint(0, n_samples-1)\n",
    "            b_data[j] = data[sample_index]\n",
    "            b_labels[j] = labels[sample_index]\n",
    "        bootstrap.append((b_data, b_labels))\n",
    "        \n",
    "    return bootstrap"
   ]
  },
  {
   "cell_type": "code",
   "execution_count": 111,
   "metadata": {},
   "outputs": [],
   "source": [
    "def get_subsample(len_sample):\n",
    "    # будем сохранять не сами признаки, а их индексы\n",
    "    sample_indexes = [i for i in range(len_sample)]\n",
    "    \n",
    "    len_subsample = int(np.sqrt(len_sample))\n",
    "    subsample = []\n",
    "    \n",
    "    np.random.shuffle(sample_indexes)\n",
    "    for _ in range(len_subsample):\n",
    "        subsample.append(sample_indexes.pop())\n",
    "        \n",
    "    return subsample"
   ]
  },
  {
   "cell_type": "code",
   "execution_count": 112,
   "metadata": {},
   "outputs": [],
   "source": [
    "def find_best_split(data, labels):\n",
    "    # Нахождение наилучшего разбиения\n",
    "\n",
    "    #  обозначим минимальное количество объектов в узле\n",
    "    min_leaf = 1\n",
    "\n",
    "    current_gini = gini(labels)\n",
    "\n",
    "    best_quality = 0\n",
    "    best_t = None\n",
    "    best_index = None\n",
    "    \n",
    "    n_features = data.shape[1]\n",
    "    \n",
    "    # выбор индекса из подвыборки длиной sqrt(n_features)\n",
    "    subsample = get_subsample(n_features)\n",
    "    \n",
    "    for index in subsample:\n",
    "        # будем проверять только уникальные значения признака, исключая повторения\n",
    "        t_values = np.unique([row[index] for row in data])\n",
    "        \n",
    "        for t in t_values:\n",
    "            true_data, false_data, true_labels, false_labels = split(data, labels, index, t)\n",
    "            #  пропускаем разбиения, в которых в узле остается менее 5 объектов\n",
    "            if len(true_data) < min_leaf or len(false_data) < min_leaf:\n",
    "                continue\n",
    "            \n",
    "            current_quality = quality(true_labels, false_labels, current_gini)\n",
    "            \n",
    "            #  выбираем порог, на котором получается максимальный прирост качества\n",
    "            if current_quality > best_quality:\n",
    "                best_quality, best_t, best_index = current_quality, t, index\n",
    "\n",
    "    return best_quality, best_t, best_index"
   ]
  },
  {
   "cell_type": "code",
   "execution_count": 113,
   "metadata": {},
   "outputs": [],
   "source": [
    "def build_tree(data, labels):\n",
    "    # Построение дерева с помощью рекурсивной функции\n",
    "\n",
    "    quality, t, index = find_best_split(data, labels)\n",
    "\n",
    "    #  Базовый случай - прекращаем рекурсию, когда нет прироста в качества\n",
    "    if quality == 0:\n",
    "        return Leaf(data, labels)\n",
    "\n",
    "    true_data, false_data, true_labels, false_labels = split(data, labels, index, t)\n",
    "\n",
    "    # Рекурсивно строим два поддерева\n",
    "    true_branch = build_tree(true_data, true_labels)\n",
    "    false_branch = build_tree(false_data, false_labels)\n",
    "\n",
    "    # Возвращаем класс узла со всеми поддеревьями, то есть целого дерева\n",
    "    return Node(index, t, true_branch, false_branch)"
   ]
  },
  {
   "cell_type": "code",
   "execution_count": 114,
   "metadata": {},
   "outputs": [],
   "source": [
    "def random_forest(data, labels, n_trees):\n",
    "    forest = []\n",
    "    bootstrap = get_bootstrap(data, labels, n_trees)\n",
    "    \n",
    "    for b_data, b_labels in bootstrap:\n",
    "        forest.append(build_tree(b_data, b_labels))\n",
    "        \n",
    "    return forest"
   ]
  },
  {
   "cell_type": "code",
   "execution_count": 115,
   "metadata": {},
   "outputs": [],
   "source": [
    "def classify_object(obj, node):\n",
    "\n",
    "    #  Останавливаем рекурсию, если достигли листа\n",
    "    if isinstance(node, Leaf):\n",
    "        answer = node.prediction\n",
    "        return answer\n",
    "\n",
    "    if obj[node.index] <= node.t:\n",
    "        return classify_object(obj, node.true_branch)\n",
    "    else:\n",
    "        return classify_object(obj, node.false_branch)"
   ]
  },
  {
   "cell_type": "code",
   "execution_count": 116,
   "metadata": {},
   "outputs": [],
   "source": [
    "def predict(data, tree):\n",
    "    \n",
    "    classes = []\n",
    "    for obj in data:\n",
    "        prediction = classify_object(obj, tree)\n",
    "        classes.append(prediction)\n",
    "    return classes"
   ]
  },
  {
   "cell_type": "code",
   "execution_count": 117,
   "metadata": {},
   "outputs": [],
   "source": [
    "def tree_vote(forest, data):\n",
    "    # предсказание голосованием деревьев\n",
    "\n",
    "    # добавим предсказания всех деревьев в список\n",
    "    predictions = []\n",
    "    for tree in forest:\n",
    "        predictions.append(predict(data, tree))\n",
    "    \n",
    "    # сформируем список с предсказаниями для каждого объекта\n",
    "    predictions_per_object = list(zip(*predictions))\n",
    "    \n",
    "    # выберем в качестве итогового предсказания для каждого объекта то,\n",
    "    # за которое проголосовало большинство деревьев\n",
    "    voted_predictions = []\n",
    "    for obj in predictions_per_object:\n",
    "        voted_predictions.append(max(set(obj), key=obj.count))\n",
    "        \n",
    "    return voted_predictions"
   ]
  },
  {
   "cell_type": "code",
   "execution_count": 118,
   "metadata": {},
   "outputs": [],
   "source": [
    "X_train, X_test, y_train, y_test = train_test_split(X, y, test_size=0.2, random_state=1)"
   ]
  },
  {
   "cell_type": "code",
   "execution_count": 119,
   "metadata": {},
   "outputs": [
    {
     "name": "stdout",
     "output_type": "stream",
     "text": [
      "\n",
      "Точность случайного леса из 1 деревьев на обучающей выборке: 91.287\n",
      "Точность случайного леса из 1 деревьев на тестовой выборке: 86.250\n",
      "\n",
      "Точность случайного леса из 3 деревьев на обучающей выборке: 93.263\n",
      "Точность случайного леса из 3 деревьев на тестовой выборке: 89.000\n",
      "\n",
      "Точность случайного леса из 5 деревьев на обучающей выборке: 93.812\n",
      "Точность случайного леса из 5 деревьев на тестовой выборке: 89.550\n",
      "\n",
      "Точность случайного леса из 10 деревьев на обучающей выборке: 92.925\n",
      "Точность случайного леса из 10 деревьев на тестовой выборке: 89.900\n"
     ]
    }
   ],
   "source": [
    "n_trees_list = [1, 3, 5, 10]\n",
    "train_accuracy_list = []\n",
    "test_accuracy_list = []\n",
    "\n",
    "for n_trees in n_trees_list:\n",
    "    my_forest = random_forest(X_train, y_train, n_trees)\n",
    "    train_answers = tree_vote(my_forest, X_train)\n",
    "    test_answers = tree_vote(my_forest, X_test)\n",
    "    train_accuracy = accuracy_metric(y_train, train_answers)\n",
    "    print(f'\\nТочность случайного леса из {n_trees} деревьев на обучающей выборке: {train_accuracy:.3f}')\n",
    "    train_accuracy_list.append(train_accuracy)\n",
    "    test_accuracy = accuracy_metric(y_test, test_answers)\n",
    "    print(f'Точность случайного леса из {n_trees} деревьев на тестовой выборке: {test_accuracy:.3f}')\n",
    "    test_accuracy_list.append(test_accuracy)"
   ]
  },
  {
   "cell_type": "markdown",
   "metadata": {},
   "source": [
    "Точность случайного леса из 1 деревьев на обучающей выборке: 91.287\n",
    "Точность случайного леса из 1 деревьев на тестовой выборке: 86.250\n",
    "\n",
    "Точность случайного леса из 3 деревьев на обучающей выборке: 93.263\n",
    "Точность случайного леса из 3 деревьев на тестовой выборке: 89.000\n",
    "\n",
    "Точность случайного леса из 10 деревьев на обучающей выборке: 93.312\n",
    "Точность случайного леса из 10 деревьев на тестовой выборке: 90.100\n",
    "\n",
    "Точность случайного леса из 50 деревьев на обучающей выборке: 93.975\n",
    "Точность случайного леса из 50 деревьев на тестовой выборке: 90.100"
   ]
  },
  {
   "cell_type": "code",
   "execution_count": 120,
   "metadata": {},
   "outputs": [
    {
     "data": {
      "image/png": "[encoded data removed]",
      "text/plain": [
       "<Figure size 432x288 with 1 Axes>"
      ]
     },
     "metadata": {
      "needs_background": "light"
     },
     "output_type": "display_data"
    }
   ],
   "source": [
    "plt.plot(n_trees_list, train_accuracy_list, marker='x')\n",
    "plt.plot(n_trees_list, test_accuracy_list, marker='x')\n",
    "\n",
    "plt.title(\"Зависимость accuracy от числа деревьев\")\n",
    "plt.ylabel(\"accuracy\")\n",
    "plt.legend(labels=[\"accuracy на обучающей выборке\", \"accuracy на тестовой выборке\"])\n",
    "plt.grid()\n",
    "plt.show()"
   ]
  },
  {
   "cell_type": "code",
   "execution_count": 121,
   "metadata": {},
   "outputs": [],
   "source": [
    "# res_forest = random_forest(X, y, 10)"
   ]
  },
  {
   "cell_type": "code",
   "execution_count": 122,
   "metadata": {},
   "outputs": [],
   "source": [
    "# answers = tree_vote(res_forest, test_X)"
   ]
  },
  {
   "cell_type": "code",
   "execution_count": 123,
   "metadata": {},
   "outputs": [],
   "source": [
    "# a = np.array(answers, dtype=int)\n",
    "# a"
   ]
  },
  {
   "cell_type": "code",
   "execution_count": 124,
   "metadata": {},
   "outputs": [],
   "source": [
    "# res = test[['Id']].copy()\n",
    "# res = pd.concat([res, pd.DataFrame(a, columns=['choose'])], axis=1)\n",
    "# res"
   ]
  },
  {
   "cell_type": "code",
   "execution_count": 125,
   "metadata": {},
   "outputs": [],
   "source": [
    "# res.to_csv(\"viv_class_11.csv\", sep=\",\", index=False)"
   ]
  }
 ],
 "metadata": {
  "kernelspec": {
   "display_name": "Python 3",
   "language": "python",
   "name": "python3"
  },
  "language_info": {
   "codemirror_mode": {
    "name": "ipython",
    "version": 3
   },
   "file_extension": ".py",
   "mimetype": "text/x-python",
   "name": "python",
   "nbconvert_exporter": "python",
   "pygments_lexer": "ipython3",
   "version": "3.8.3"
  }
 },
 "nbformat": 4,
 "nbformat_minor": 4
}
